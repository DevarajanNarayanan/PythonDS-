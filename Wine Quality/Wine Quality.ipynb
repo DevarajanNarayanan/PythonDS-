{
 "cells": [
  {
   "cell_type": "code",
   "execution_count": 1,
   "metadata": {},
   "outputs": [],
   "source": [
    "#Import Packages\n",
    "import pandas as pd \n",
    "from sklearn.model_selection import train_test_split \n",
    "from sklearn.linear_model import LinearRegression \n",
    "from sklearn import metrics \n",
    "import matplotlib.pyplot as plt \n",
    "import numpy as np \n",
    "import seaborn as sns\n",
    "import os"
   ]
  },
  {
   "cell_type": "code",
   "execution_count": 2,
   "metadata": {},
   "outputs": [],
   "source": [
    "#Dataset Location\n",
    "os.chdir(\"D:\\\\DS\\\\Python DS\\\\Sample\\\\wine-quality\\\\\")"
   ]
  },
  {
   "cell_type": "code",
   "execution_count": 3,
   "metadata": {},
   "outputs": [
    {
     "data": {
      "text/html": [
       "<div>\n",
       "<style scoped>\n",
       "    .dataframe tbody tr th:only-of-type {\n",
       "        vertical-align: middle;\n",
       "    }\n",
       "\n",
       "    .dataframe tbody tr th {\n",
       "        vertical-align: top;\n",
       "    }\n",
       "\n",
       "    .dataframe thead th {\n",
       "        text-align: right;\n",
       "    }\n",
       "</style>\n",
       "<table border=\"1\" class=\"dataframe\">\n",
       "  <thead>\n",
       "    <tr style=\"text-align: right;\">\n",
       "      <th></th>\n",
       "      <th>fixed acidity</th>\n",
       "      <th>volatile acidity</th>\n",
       "      <th>citric acid</th>\n",
       "      <th>residual sugar</th>\n",
       "      <th>chlorides</th>\n",
       "      <th>free sulfur dioxide</th>\n",
       "      <th>total sulfur dioxide</th>\n",
       "      <th>density</th>\n",
       "      <th>pH</th>\n",
       "      <th>sulphates</th>\n",
       "      <th>alcohol</th>\n",
       "      <th>quality</th>\n",
       "    </tr>\n",
       "  </thead>\n",
       "  <tbody>\n",
       "    <tr>\n",
       "      <th>0</th>\n",
       "      <td>7.0</td>\n",
       "      <td>0.27</td>\n",
       "      <td>0.36</td>\n",
       "      <td>20.7</td>\n",
       "      <td>0.045</td>\n",
       "      <td>45.0</td>\n",
       "      <td>170.0</td>\n",
       "      <td>1.0010</td>\n",
       "      <td>3.00</td>\n",
       "      <td>0.45</td>\n",
       "      <td>8.8</td>\n",
       "      <td>6</td>\n",
       "    </tr>\n",
       "    <tr>\n",
       "      <th>1</th>\n",
       "      <td>6.3</td>\n",
       "      <td>0.30</td>\n",
       "      <td>0.34</td>\n",
       "      <td>1.6</td>\n",
       "      <td>0.049</td>\n",
       "      <td>14.0</td>\n",
       "      <td>132.0</td>\n",
       "      <td>0.9940</td>\n",
       "      <td>3.30</td>\n",
       "      <td>0.49</td>\n",
       "      <td>9.5</td>\n",
       "      <td>6</td>\n",
       "    </tr>\n",
       "    <tr>\n",
       "      <th>2</th>\n",
       "      <td>8.1</td>\n",
       "      <td>0.28</td>\n",
       "      <td>0.40</td>\n",
       "      <td>6.9</td>\n",
       "      <td>0.050</td>\n",
       "      <td>30.0</td>\n",
       "      <td>97.0</td>\n",
       "      <td>0.9951</td>\n",
       "      <td>3.26</td>\n",
       "      <td>0.44</td>\n",
       "      <td>10.1</td>\n",
       "      <td>6</td>\n",
       "    </tr>\n",
       "    <tr>\n",
       "      <th>3</th>\n",
       "      <td>7.2</td>\n",
       "      <td>0.23</td>\n",
       "      <td>0.32</td>\n",
       "      <td>8.5</td>\n",
       "      <td>0.058</td>\n",
       "      <td>47.0</td>\n",
       "      <td>186.0</td>\n",
       "      <td>0.9956</td>\n",
       "      <td>3.19</td>\n",
       "      <td>0.40</td>\n",
       "      <td>9.9</td>\n",
       "      <td>6</td>\n",
       "    </tr>\n",
       "    <tr>\n",
       "      <th>4</th>\n",
       "      <td>7.2</td>\n",
       "      <td>0.23</td>\n",
       "      <td>0.32</td>\n",
       "      <td>8.5</td>\n",
       "      <td>0.058</td>\n",
       "      <td>47.0</td>\n",
       "      <td>186.0</td>\n",
       "      <td>0.9956</td>\n",
       "      <td>3.19</td>\n",
       "      <td>0.40</td>\n",
       "      <td>9.9</td>\n",
       "      <td>6</td>\n",
       "    </tr>\n",
       "  </tbody>\n",
       "</table>\n",
       "</div>"
      ],
      "text/plain": [
       "   fixed acidity  volatile acidity  citric acid  residual sugar  chlorides  \\\n",
       "0            7.0              0.27         0.36            20.7      0.045   \n",
       "1            6.3              0.30         0.34             1.6      0.049   \n",
       "2            8.1              0.28         0.40             6.9      0.050   \n",
       "3            7.2              0.23         0.32             8.5      0.058   \n",
       "4            7.2              0.23         0.32             8.5      0.058   \n",
       "\n",
       "   free sulfur dioxide  total sulfur dioxide  density    pH  sulphates  \\\n",
       "0                 45.0                 170.0   1.0010  3.00       0.45   \n",
       "1                 14.0                 132.0   0.9940  3.30       0.49   \n",
       "2                 30.0                  97.0   0.9951  3.26       0.44   \n",
       "3                 47.0                 186.0   0.9956  3.19       0.40   \n",
       "4                 47.0                 186.0   0.9956  3.19       0.40   \n",
       "\n",
       "   alcohol  quality  \n",
       "0      8.8        6  \n",
       "1      9.5        6  \n",
       "2     10.1        6  \n",
       "3      9.9        6  \n",
       "4      9.9        6  "
      ]
     },
     "execution_count": 3,
     "metadata": {},
     "output_type": "execute_result"
    }
   ],
   "source": [
    "#Dataset import - Model created with red and checked on white\n",
    "# dataset = pd.read_csv('winequality-red.csv')\n",
    "dataset = pd.read_csv('winequality-white.csv')\n",
    "dataset.head()"
   ]
  },
  {
   "cell_type": "code",
   "execution_count": 4,
   "metadata": {},
   "outputs": [
    {
     "name": "stdout",
     "output_type": "stream",
     "text": [
      "fixed acidity          -0.113663\n",
      "volatile acidity       -0.194723\n",
      "citric acid            -0.009209\n",
      "residual sugar         -0.097577\n",
      "chlorides              -0.209934\n",
      "free sulfur dioxide     0.008158\n",
      "total sulfur dioxide   -0.174737\n",
      "density                -0.307123\n",
      "pH                      0.099427\n",
      "sulphates               0.053678\n",
      "alcohol                 0.435575\n",
      "Name: quality, dtype: float64\n"
     ]
    }
   ],
   "source": [
    "#Dataset Correlation\n",
    "correlations = dataset.corr()['quality'].drop('quality')\n",
    "print(correlations)"
   ]
  },
  {
   "cell_type": "code",
   "execution_count": 5,
   "metadata": {},
   "outputs": [
    {
     "data": {
      "image/png": "[encoded data removed]",
      "text/plain": [
       "<Figure size 432x288 with 2 Axes>"
      ]
     },
     "metadata": {
      "needs_background": "light"
     },
     "output_type": "display_data"
    }
   ],
   "source": [
    "#Dataset HeatMap\n",
    "sns.heatmap(dataset.corr())\n",
    "plt.show()"
   ]
  },
  {
   "cell_type": "code",
   "execution_count": 6,
   "metadata": {},
   "outputs": [
    {
     "data": {
      "text/plain": [
       "fixed acidity           False\n",
       "volatile acidity        False\n",
       "citric acid             False\n",
       "residual sugar          False\n",
       "chlorides               False\n",
       "free sulfur dioxide     False\n",
       "total sulfur dioxide    False\n",
       "density                 False\n",
       "pH                      False\n",
       "sulphates               False\n",
       "alcohol                 False\n",
       "quality                 False\n",
       "dtype: bool"
      ]
     },
     "execution_count": 6,
     "metadata": {},
     "output_type": "execute_result"
    }
   ],
   "source": [
    "#Check on Null value\n",
    "dataset.isnull().any()"
   ]
  },
  {
   "cell_type": "code",
   "execution_count": 7,
   "metadata": {},
   "outputs": [],
   "source": [
    "#x and y value allocation\n",
    "x = dataset.iloc[:,:-1]"
   ]
  },
  {
   "cell_type": "code",
   "execution_count": 8,
   "metadata": {},
   "outputs": [],
   "source": [
    "y= dataset.iloc[:,11]"
   ]
  },
  {
   "cell_type": "code",
   "execution_count": 9,
   "metadata": {},
   "outputs": [],
   "source": [
    "#Train, Test split\n",
    "from sklearn.model_selection import train_test_split\n",
    "x_train, x_test, y_train, y_test = train_test_split(x, y, test_size=0.2)"
   ]
  },
  {
   "cell_type": "code",
   "execution_count": 10,
   "metadata": {},
   "outputs": [
    {
     "data": {
      "text/plain": [
       "LinearRegression(copy_X=True, fit_intercept=True, n_jobs=None,\n",
       "         normalize=False)"
      ]
     },
     "execution_count": 10,
     "metadata": {},
     "output_type": "execute_result"
    }
   ],
   "source": [
    "#Apply Linear Regression Model\n",
    "from sklearn.linear_model import LinearRegression\n",
    "reg=LinearRegression()\n",
    "reg.fit(x_train, y_train)"
   ]
  },
  {
   "cell_type": "code",
   "execution_count": 11,
   "metadata": {},
   "outputs": [],
   "source": [
    "#Prediction\n",
    "y_pred = reg.predict(x_test)"
   ]
  },
  {
   "cell_type": "code",
   "execution_count": 12,
   "metadata": {},
   "outputs": [
    {
     "data": {
      "text/plain": [
       "array([5.81014047, 5.63475704, 5.13628963, 5.77860609, 5.48594191,\n",
       "       5.9425661 , 5.53210825, 6.6388866 , 6.25051111, 5.7465352 ,\n",
       "       5.17945349, 6.16365406, 5.93098867, 4.97367971, 5.53576066,\n",
       "       5.84013326, 5.85139702, 5.79367404, 5.78168197, 5.58330915,\n",
       "       5.70988568, 5.540785  , 6.30227419, 6.46684069, 5.59957278,\n",
       "       6.03317737, 6.0256422 , 5.62306954, 5.29471586, 5.32695908,\n",
       "       5.56333442, 5.89324781, 6.50391077, 6.39288194, 6.27750294,\n",
       "       5.61204096, 5.78535375, 6.78324825, 6.50844846, 5.5732117 ,\n",
       "       5.63199843, 6.66123679, 6.32243429, 5.93531515, 5.22486877,\n",
       "       5.67936905, 6.49196027, 5.47802229, 5.19996619, 6.25802611,\n",
       "       5.89793662, 6.21009198, 6.36203834, 6.21875515, 6.18934166,\n",
       "       6.7418689 , 6.46316754, 5.34731429, 5.45094223, 5.61336044,\n",
       "       6.1754791 , 5.9180404 , 6.02097402, 6.41920398, 5.15203149,\n",
       "       6.62907874, 6.04201437, 6.23013249, 4.752457  , 6.1422388 ,\n",
       "       6.30172805, 6.15883384, 5.47355585, 5.50639857, 6.64486847,\n",
       "       5.6246747 , 5.31999038, 5.80107013, 6.26335239, 6.37258082,\n",
       "       5.49268251, 6.86955157, 5.85598271, 5.39510806, 6.21480693,\n",
       "       5.6337955 , 5.46713517, 5.95290623, 6.11013429, 6.43157113,\n",
       "       5.20459453, 5.5028114 , 6.69538721, 4.58600378, 5.74036463,\n",
       "       5.64474248, 5.270802  , 6.04201437, 6.17021543, 5.37623843,\n",
       "       6.3461447 , 5.963836  , 5.69502752, 6.636318  , 5.49428447,\n",
       "       5.64166677, 6.31007199, 5.51794664, 5.53080074, 5.90768882,\n",
       "       6.17872748, 6.32124131, 6.1198221 , 6.37255972, 5.90319244,\n",
       "       5.29243766, 5.418865  , 6.03454677, 5.84190157, 6.07627165,\n",
       "       6.19935847, 5.70180311, 6.0639113 , 5.56738463, 5.51280021,\n",
       "       6.57161072, 4.09913806, 6.03837064, 4.98385195, 5.59560683,\n",
       "       5.29217783, 5.81160413, 6.22028324, 5.39193791, 4.7389593 ,\n",
       "       6.56587917, 6.42924871, 5.50116284, 5.64409017, 5.42750811,\n",
       "       5.78307181, 6.76708049, 6.15718355, 6.76011262, 6.17929472,\n",
       "       6.14195894, 6.42924871, 5.51189194, 5.31057988, 5.19269185,\n",
       "       5.64746859, 5.85682377, 6.64925071, 6.46488131, 6.25226651,\n",
       "       6.22883997, 6.08993978, 5.6210045 , 5.54480673, 6.00428567,\n",
       "       6.03528818, 6.02793417, 6.56372724, 6.83573631, 6.21495727,\n",
       "       6.04104844, 5.84675597, 6.04893642, 5.15394669, 5.89491853,\n",
       "       5.7501978 , 5.71558687, 5.63879347, 6.54493731, 5.61244478,\n",
       "       6.0799717 , 5.90174273, 6.01717835, 5.42831089, 6.70825623,\n",
       "       6.4858696 , 5.53981742, 5.85598271, 6.73674832, 5.72357996,\n",
       "       5.05533952, 5.62216091, 6.11409446, 5.67508106, 6.24177881,\n",
       "       6.36238043, 6.08849152, 5.69102642, 5.61022696, 4.91220154,\n",
       "       6.21421601, 5.64175944, 5.82694631, 5.70167208, 5.30497163,\n",
       "       6.36739766, 5.53670247, 5.84380271, 6.61829305, 5.84798837,\n",
       "       6.31414084, 6.59846088, 5.73121291, 5.08823721, 5.92313635,\n",
       "       5.27899292, 5.57821473, 5.62396093, 6.95968389, 6.42641067,\n",
       "       5.65306152, 6.52548788, 6.90141466, 5.50575451, 6.0277931 ,\n",
       "       6.21366837, 6.08275193, 6.5631723 , 6.08993978, 6.44864981,\n",
       "       6.28384149, 4.77512471, 6.21002304, 6.00764985, 5.81075255,\n",
       "       6.88965403, 5.56928483, 5.58145186, 6.09790515, 6.41310969,\n",
       "       6.66726459, 6.20671404, 5.89227552, 5.74344631, 5.42263831,\n",
       "       5.52103096, 5.0887433 , 5.79061202, 6.03394645, 6.40525688,\n",
       "       6.52546751, 6.72914331, 6.26905978, 5.6592784 , 5.35908508,\n",
       "       5.34839063, 5.16031471, 5.46673796, 5.68013613, 5.92020197,\n",
       "       5.67896423, 5.85451449, 6.21402722, 6.19439559, 5.71898519,\n",
       "       5.94898219, 5.80339385, 6.34775037, 5.95028495, 5.77276267,\n",
       "       5.52576592, 6.35451194, 5.55748355, 6.0684203 , 5.71536853,\n",
       "       6.35301043, 5.58445958, 5.02053969, 5.31506387, 5.75301717,\n",
       "       5.65819561, 6.5300499 , 6.08421542, 5.52359768, 7.285891  ,\n",
       "       5.13095874, 5.82632686, 6.0259085 , 6.10052741, 5.73705569,\n",
       "       5.52057952, 5.69854331, 6.28565672, 6.51279203, 4.79940088,\n",
       "       5.46507425, 5.5282821 , 6.06728782, 5.92182174, 6.55040187,\n",
       "       6.56727393, 5.46165887, 5.48331297, 5.53035425, 5.46577298,\n",
       "       5.53743253, 5.08048349, 5.97491078, 4.68356603, 5.83294731,\n",
       "       5.94061664, 6.0766264 , 5.74538771, 5.83823234, 6.44754174,\n",
       "       6.07758879, 6.05889413, 5.32599063, 5.20472206, 5.98988592,\n",
       "       4.85767146, 5.16267879, 5.48439306, 6.06218865, 5.90288034,\n",
       "       6.47933412, 6.79270481, 6.08574715, 6.1032367 , 5.74580836,\n",
       "       5.95347592, 6.08333091, 5.25266473, 5.76618012, 6.84791897,\n",
       "       5.8752507 , 5.85473924, 5.85476395, 4.9024699 , 6.41435438,\n",
       "       5.7805843 , 5.35687559, 6.19794971, 6.60452646, 5.4637186 ,\n",
       "       5.15964292, 5.49850174, 6.10424397, 5.75974997, 6.67311421,\n",
       "       6.12536759, 6.2974275 , 5.64591127, 6.77181032, 5.99146498,\n",
       "       5.86839037, 5.34557874, 6.09295581, 5.91324637, 6.22432847,\n",
       "       5.44554417, 5.55781086, 6.30523038, 5.98359941, 5.75105933,\n",
       "       5.81302178, 6.77606767, 6.36849676, 5.46824696, 6.27237688,\n",
       "       5.95055428, 6.08926344, 6.17828973, 6.13965089, 6.59711794,\n",
       "       5.15430105, 5.28434453, 6.02240119, 5.98416324, 6.04979219,\n",
       "       5.64441061, 6.45957352, 6.35754709, 6.20564204, 5.44465818,\n",
       "       6.2903417 , 6.89333405, 5.04733449, 5.28314531, 5.29651814,\n",
       "       5.5063735 , 6.73275535, 6.27137359, 5.57893549, 6.13509009,\n",
       "       6.67288338, 5.8122675 , 5.40422811, 6.40232566, 6.65149418,\n",
       "       5.21212325, 6.19005303, 7.07456451, 5.6549472 , 5.9783808 ,\n",
       "       5.75651122, 6.7528809 , 5.85238061, 5.5207749 , 5.77459149,\n",
       "       6.55115035, 5.97221228, 6.05465243, 6.37603799, 5.3842054 ,\n",
       "       6.24650707, 5.74275273, 5.84701282, 6.13030379, 5.6594679 ,\n",
       "       6.46181793, 5.46577298, 5.83322007, 5.77745236, 6.34353218,\n",
       "       6.35326826, 5.74875866, 5.66262406, 5.82833631, 4.42374347,\n",
       "       6.31297061, 5.47137288, 5.70400176, 6.05856166, 4.95924582,\n",
       "       5.42050132, 5.63828304, 5.06771883, 5.47146894, 6.57751124,\n",
       "       6.13785377, 5.70229226, 5.77324619, 5.95663293, 5.00161006,\n",
       "       5.48772111, 5.88215995, 5.76993278, 5.68011933, 6.12736472,\n",
       "       5.95167042, 5.91233549, 5.76456687, 5.47819078, 6.036029  ,\n",
       "       5.71247642, 6.24148981, 5.93507246, 6.16889417, 5.95597807,\n",
       "       6.20053036, 6.64258475, 6.46847146, 5.55119465, 5.51743023,\n",
       "       4.85532622, 6.26556117, 5.91493234, 6.26753324, 5.94764509,\n",
       "       5.32113696, 5.76305141, 4.55089255, 6.70325045, 6.71966786,\n",
       "       5.20458279, 5.50749631, 5.54186123, 5.37801882, 5.75298868,\n",
       "       6.26633482, 6.05937043, 6.05092204, 6.44379211, 5.53576066,\n",
       "       5.30850147, 6.60029787, 6.33851147, 5.78662558, 6.15918214,\n",
       "       6.02589907, 5.79570128, 5.76305141, 6.38887881, 5.46555329,\n",
       "       6.04062653, 5.59087485, 5.88980654, 6.39123307, 5.08481434,\n",
       "       6.19412155, 5.27935178, 5.23912909, 5.91482535, 5.62489053,\n",
       "       5.72252762, 6.61971431, 5.40994741, 6.09892305, 5.99532479,\n",
       "       5.6549472 , 5.6424483 , 5.81874657, 5.94541942, 5.6445378 ,\n",
       "       5.28450176, 6.41466399, 5.52103096, 5.57889082, 5.74058319,\n",
       "       5.86174017, 6.36572252, 6.78716807, 5.09940373, 5.43188672,\n",
       "       5.57631466, 6.13410594, 6.03772436, 6.99894705, 5.736556  ,\n",
       "       6.09488473, 6.37626167, 5.67684635, 5.68837315, 5.30687149,\n",
       "       5.22135951, 5.62718222, 6.79759011, 5.81814102, 6.26774147,\n",
       "       5.9913257 , 5.81316152, 6.36069218, 6.36238043, 6.43768988,\n",
       "       5.62194929, 5.46367743, 5.59091625, 6.18376541, 6.25511302,\n",
       "       5.46713517, 5.66189679, 5.41407354, 5.77349136, 5.38387332,\n",
       "       6.11013564, 6.13451248, 5.9677908 , 6.1992229 , 5.65439684,\n",
       "       5.37177033, 5.91957593, 5.84089859, 5.84201142, 5.61982779,\n",
       "       6.0766264 , 5.83460256, 5.21047388, 6.34605504, 5.67865245,\n",
       "       4.96629325, 4.81677785, 6.25871601, 6.43030902, 5.97642367,\n",
       "       6.22038161, 5.98039338, 6.13052753, 6.13734664, 5.43322397,\n",
       "       5.50477077, 5.24542811, 5.56710265, 5.56980739, 5.475665  ,\n",
       "       5.82882082, 6.13828574, 5.10341197, 5.31532551, 4.98778389,\n",
       "       5.62857899, 6.49648317, 6.86325205, 6.5354652 , 5.27459989,\n",
       "       6.10878795, 6.44878088, 5.3552629 , 5.42641453, 5.33517301,\n",
       "       5.65445237, 6.45957352, 6.35853007, 5.34866258, 4.91262704,\n",
       "       5.94462445, 6.75498137, 5.08724727, 6.18691197, 6.74782903,\n",
       "       6.52346366, 5.90099756, 6.46535476, 5.8046546 , 5.72611186,\n",
       "       5.89150873, 5.47897496, 5.78251244, 5.2890909 , 6.81947083,\n",
       "       5.95609908, 5.83307397, 6.18749534, 6.30665646, 5.4757706 ,\n",
       "       6.97568581, 5.5942565 , 6.22215042, 5.86563317, 5.96779022,\n",
       "       5.72515215, 5.37879049, 6.61425914, 5.8680299 , 5.74015561,\n",
       "       6.43540312, 5.79106769, 5.69605875, 6.04415738, 6.11394399,\n",
       "       5.83460256, 5.37110819, 5.84980335, 5.90465755, 6.08136205,\n",
       "       6.14169981, 5.45805173, 6.39273929, 6.26780376, 6.14403428,\n",
       "       6.05592622, 6.21203453, 5.66262406, 5.896321  , 6.07114672,\n",
       "       5.9458677 , 5.29464278, 5.01377764, 6.78253171, 5.75812002,\n",
       "       5.30351788, 5.40760236, 5.87707535, 6.09892305, 6.2917328 ,\n",
       "       5.55168576, 6.06224748, 6.3767455 , 6.98376673, 6.37590541,\n",
       "       6.60068966, 6.50285489, 5.44493278, 5.06571179, 5.69306966,\n",
       "       5.92488218, 5.70712138, 5.26029675, 6.22529053, 6.0314727 ,\n",
       "       5.52553777, 5.6474815 , 5.74044703, 5.71334388, 6.51214233,\n",
       "       5.91165598, 5.87908756, 5.89776512, 6.56096153, 5.89655193,\n",
       "       5.72743037, 6.34635742, 5.64551868, 6.59108739, 5.68816982,\n",
       "       5.31552591, 6.29193657, 5.16913744, 6.1254378 , 5.77640205,\n",
       "       6.29381351, 5.92590776, 5.50552041, 6.25620191, 5.63065834,\n",
       "       7.18049991, 5.89337978, 5.56964392, 5.72133868, 6.01411798,\n",
       "       5.61636887, 5.45815765, 6.83066105, 6.75970838, 5.6147164 ,\n",
       "       5.48073809, 6.29041114, 5.58445958, 5.9611217 , 6.04743752,\n",
       "       5.78199801, 5.67353116, 6.37624081, 6.34011385, 5.7688256 ,\n",
       "       6.23172467, 5.50149149, 5.67371255, 4.81589575, 5.72111241,\n",
       "       5.78518494, 5.03703395, 5.1875962 , 4.79286893, 6.11992875,\n",
       "       5.03322419, 6.4953722 , 6.30233816, 5.03037868, 6.16109255,\n",
       "       6.23127476, 6.03714895, 6.46966249, 6.31293118, 5.96017624,\n",
       "       6.80909034, 6.1171414 , 5.22115235, 6.08747612, 6.88705947,\n",
       "       5.49875401, 5.29344941, 5.18461054, 5.9987508 , 6.26674812,\n",
       "       6.18250194, 5.58823896, 6.74127959, 5.44045041, 5.9608926 ,\n",
       "       6.13893558, 5.83037913, 5.51155664, 5.65575896, 6.52352937,\n",
       "       5.97056935, 5.76787374, 5.6199073 , 4.81330512, 5.68011933,\n",
       "       6.12535144, 6.4104205 , 5.67431239, 5.62847797, 6.13307557,\n",
       "       5.93690583, 6.36980144, 5.69957196, 6.05494843, 5.54107536,\n",
       "       5.84954976, 5.82912106, 5.82908359, 5.32719633, 5.72455737,\n",
       "       6.25669576, 5.51794664, 5.13898912, 6.16819945, 6.15650253,\n",
       "       5.93752101, 6.61808788, 5.4541257 , 5.74386241, 5.34617736,\n",
       "       5.99690731, 6.05643727, 5.16814226, 5.47657866, 5.39314953,\n",
       "       5.47944534, 5.97329934, 5.98258519, 6.07482866, 6.02288942,\n",
       "       5.80310558, 6.21745622, 6.2809405 , 6.00158191, 5.76940187,\n",
       "       6.45927188, 5.7470831 , 6.33201495, 6.02877312, 5.05601508,\n",
       "       5.66262406, 5.46824696, 5.8698683 , 5.43612693, 6.59789835,\n",
       "       5.81418051, 6.58370945, 6.42286843, 5.24485431, 6.38907793,\n",
       "       5.62263353, 6.69336785, 5.68650111, 5.25266473, 6.24553411,\n",
       "       6.9589776 , 5.07404671, 5.40364101, 6.02103577, 6.11861644,\n",
       "       6.57361963, 5.93695228, 5.3817077 , 6.2665376 , 6.37022574,\n",
       "       5.87196019, 6.188538  , 5.69423725, 5.97002658, 5.48331297,\n",
       "       6.84978681, 5.24052249, 6.23111128, 6.00908687, 5.87782138,\n",
       "       5.71886091, 6.39107994, 6.09031679, 5.38556681, 5.92123925,\n",
       "       5.70479596, 5.82485087, 6.42947004, 6.30719006, 5.95889588,\n",
       "       5.62050584, 5.99590087, 6.28933305, 5.19573957, 6.72005844,\n",
       "       5.47944534, 5.48331297, 5.63881896, 5.56737252, 6.99894705,\n",
       "       5.99244284, 5.31659216, 5.60037223, 4.78226725, 6.11670653,\n",
       "       5.70513463, 5.87709317, 5.43839568, 5.57535896, 6.72401149,\n",
       "       5.90224848, 6.31743457, 6.13851441, 5.71326378, 6.09463818,\n",
       "       6.08493862, 5.61547919, 6.00908687, 5.87206826, 6.00764985,\n",
       "       5.36682009, 5.40950519, 6.39013517, 5.60379546, 6.23840743,\n",
       "       5.44766514, 5.61282948, 6.42641067, 5.33808724, 5.94852617,\n",
       "       6.32325435, 6.3271703 , 5.32991175, 6.15556625, 5.81237869,\n",
       "       5.95117439, 5.88525256, 5.77634405, 6.01202014, 5.46502184,\n",
       "       5.30622047, 5.73523617, 5.73377034, 5.24653448, 6.18028864,\n",
       "       5.95360973, 5.85167599, 6.00740492, 6.99894705, 5.26170163,\n",
       "       6.51560068, 6.00884405, 6.06368565, 6.42012241, 6.75604785,\n",
       "       6.50096653, 5.4985143 , 4.59350663, 6.0208832 , 6.37082449,\n",
       "       5.73901771, 6.5810024 , 6.36327476, 6.02083214, 6.24584059,\n",
       "       6.18596645, 5.03856297, 6.18525855, 6.48453363, 6.3052081 ,\n",
       "       5.79424365, 6.45527364, 6.42924871, 6.50607631, 5.60381774,\n",
       "       5.63933316, 5.20560746, 6.05948109, 5.76569536, 5.38387332,\n",
       "       5.82336053, 5.11512974, 5.66943744, 5.40450637, 5.74838998,\n",
       "       5.97688791, 5.66084613, 6.0106602 , 5.68807889, 6.0801252 ,\n",
       "       6.00482891, 5.70466469, 5.12038869, 6.48259578, 6.763338  ,\n",
       "       5.7038459 , 6.06669501, 6.82575337, 5.97599379, 5.89864785,\n",
       "       6.00622449, 5.24625541, 5.05988056, 5.79570128, 5.54812536,\n",
       "       6.39864843, 6.11670653, 6.00426795, 6.05339431, 5.22720206,\n",
       "       5.86609074, 5.51794664, 6.58597836, 6.33727025, 5.63847145])"
      ]
     },
     "execution_count": 12,
     "metadata": {},
     "output_type": "execute_result"
    }
   ],
   "source": [
    "y_pred"
   ]
  },
  {
   "cell_type": "code",
   "execution_count": 13,
   "metadata": {},
   "outputs": [
    {
     "data": {
      "text/plain": [
       "-1.608295027450092"
      ]
     },
     "execution_count": 13,
     "metadata": {},
     "output_type": "execute_result"
    }
   ],
   "source": [
    "#R2\n",
    "from sklearn.metrics import r2_score\n",
    "r2_score(y_pred, y_test)"
   ]
  },
  {
   "cell_type": "code",
   "execution_count": 14,
   "metadata": {},
   "outputs": [
    {
     "data": {
      "text/plain": [
       "array([ 6.64745247e-02, -1.98315340e+00,  5.31587806e-03,  8.17787657e-02,\n",
       "       -8.59363744e-02,  3.39301222e-03, -2.21336630e-04, -1.46380326e+02,\n",
       "        6.90797682e-01,  5.39762375e-01,  1.96780087e-01])"
      ]
     },
     "execution_count": 14,
     "metadata": {},
     "output_type": "execute_result"
    }
   ],
   "source": [
    "reg.coef_"
   ]
  },
  {
   "cell_type": "code",
   "execution_count": 15,
   "metadata": {},
   "outputs": [
    {
     "data": {
      "text/plain": [
       "146.32841980352308"
      ]
     },
     "execution_count": 15,
     "metadata": {},
     "output_type": "execute_result"
    }
   ],
   "source": [
    "reg.intercept_"
   ]
  },
  {
   "cell_type": "code",
   "execution_count": 16,
   "metadata": {},
   "outputs": [
    {
     "data": {
      "text/plain": [
       "DecisionTreeRegressor(criterion='mse', max_depth=None, max_features=None,\n",
       "           max_leaf_nodes=None, min_impurity_decrease=0.0,\n",
       "           min_impurity_split=None, min_samples_leaf=1,\n",
       "           min_samples_split=2, min_weight_fraction_leaf=0.0,\n",
       "           presort=False, random_state=None, splitter='best')"
      ]
     },
     "execution_count": 16,
     "metadata": {},
     "output_type": "execute_result"
    }
   ],
   "source": [
    "#Decision Tree\n",
    "from sklearn.tree import DecisionTreeRegressor\n",
    "regd=DecisionTreeRegressor()\n",
    "regd.fit(x_train, y_train)\n"
   ]
  },
  {
   "cell_type": "code",
   "execution_count": 17,
   "metadata": {},
   "outputs": [],
   "source": [
    "y_pred_regd = regd.predict(x_test)"
   ]
  },
  {
   "cell_type": "code",
   "execution_count": 18,
   "metadata": {},
   "outputs": [
    {
     "data": {
      "text/plain": [
       "array([5., 6., 6., 7., 5., 6., 6., 7., 5., 6., 5., 6., 6., 5., 5., 4., 6.,\n",
       "       5., 6., 5., 6., 6., 7., 7., 5., 7., 6., 6., 5., 5., 5., 5., 7., 5.,\n",
       "       6., 5., 4., 6., 7., 5., 5., 8., 6., 8., 6., 5., 7., 5., 5., 6., 7.,\n",
       "       7., 7., 6., 6., 7., 6., 5., 5., 5., 7., 7., 6., 7., 5., 7., 6., 7.,\n",
       "       5., 6., 7., 5., 5., 6., 7., 6., 5., 5., 8., 6., 6., 6., 5., 7., 6.,\n",
       "       6., 5., 6., 6., 6., 6., 5., 6., 4., 5., 5., 5., 6., 6., 6., 8., 7.,\n",
       "       7., 6., 5., 5., 6., 7., 6., 6., 6., 6., 7., 7., 7., 5., 5., 7., 8.,\n",
       "       5., 6., 6., 7., 6., 6., 7., 4., 6., 5., 5., 5., 6., 7., 5., 6., 6.,\n",
       "       7., 5., 5., 5., 5., 6., 6., 7., 8., 5., 7., 6., 5., 5., 5., 6., 6.,\n",
       "       7., 5., 7., 5., 6., 5., 6., 6., 7., 6., 7., 8., 6., 5., 6., 5., 6.,\n",
       "       6., 5., 5., 6., 6., 6., 6., 6., 4., 6., 7., 6., 5., 6., 6., 5., 5.,\n",
       "       7., 7., 6., 6., 7., 6., 6., 4., 6., 5., 6., 5., 5., 6., 5., 6., 6.,\n",
       "       6., 6., 7., 6., 5., 7., 6., 6., 7., 7., 6., 6., 6., 8., 5., 7., 6.,\n",
       "       6., 8., 5., 6., 6., 4., 7., 6., 6., 8., 5., 6., 6., 7., 6., 7., 7.,\n",
       "       5., 7., 7., 5., 5., 6., 6., 6., 7., 7., 6., 5., 6., 5., 6., 5., 4.,\n",
       "       7., 6., 7., 6., 5., 6., 7., 6., 6., 6., 5., 7., 7., 6., 5., 6., 5.,\n",
       "       6., 4., 6., 5., 8., 8., 7., 6., 4., 5., 6., 6., 6., 7., 6., 6., 8.,\n",
       "       4., 5., 6., 5., 5., 6., 7., 7., 6., 5., 6., 6., 6., 6., 6., 5., 5.,\n",
       "       7., 6., 6., 7., 7., 5., 7., 5., 6., 6., 5., 5., 6., 6., 6., 6., 6.,\n",
       "       6., 6., 5., 7., 5., 6., 7., 6., 8., 6., 5., 6., 5., 6., 6., 8., 6.,\n",
       "       5., 6., 6., 6., 8., 6., 7., 5., 6., 6., 7., 6., 7., 5., 7., 5., 5.,\n",
       "       6., 7., 6., 5., 8., 3., 5., 6., 6., 7., 5., 8., 8., 5., 5., 6., 6.,\n",
       "       6., 6., 7., 8., 6., 6., 6., 6., 5., 5., 5., 5., 7., 7., 5., 7., 7.,\n",
       "       6., 5., 8., 7., 5., 5., 7., 5., 5., 7., 6., 7., 6., 5., 7., 7., 6.,\n",
       "       6., 5., 5., 6., 8., 7., 5., 7., 6., 5., 5., 6., 8., 5., 8., 8., 4.,\n",
       "       8., 6., 5., 5., 5., 5., 5., 6., 5., 7., 6., 5., 5., 7., 6., 6., 5.,\n",
       "       6., 6., 5., 6., 5., 5., 5., 6., 6., 7., 6., 6., 6., 7., 5., 5., 5.,\n",
       "       5., 6., 6., 6., 7., 7., 6., 6., 5., 8., 7., 6., 6., 6., 5., 6., 7.,\n",
       "       6., 6., 7., 5., 5., 6., 6., 6., 6., 6., 5., 6., 7., 5., 5., 6., 4.,\n",
       "       6., 6., 6., 6., 5., 7., 4., 6., 7., 4., 6., 6., 5., 6., 6., 7., 6.,\n",
       "       5., 7., 7., 6., 7., 5., 6., 6., 4., 6., 6., 6., 5., 6., 6., 7., 8.,\n",
       "       6., 5., 6., 5., 6., 7., 5., 6., 7., 6., 6., 6., 6., 5., 6., 7., 7.,\n",
       "       6., 5., 5., 5., 6., 9., 7., 6., 5., 6., 6., 5., 5., 6., 6., 6., 7.,\n",
       "       5., 6., 7., 6., 5., 5., 6., 6., 5., 6., 7., 7., 6., 5., 5., 5., 5.,\n",
       "       5., 5., 5., 6., 5., 5., 4., 5., 7., 6., 6., 5., 8., 7., 6., 6., 5.,\n",
       "       5., 7., 7., 5., 6., 6., 6., 6., 7., 7., 8., 6., 7., 7., 5., 5., 6.,\n",
       "       7., 6., 7., 5., 6., 6., 6., 6., 7., 5., 6., 9., 6., 5., 6., 6., 6.,\n",
       "       6., 6., 5., 6., 7., 7., 5., 5., 5., 6., 6., 6., 5., 6., 7., 7., 6.,\n",
       "       8., 8., 6., 6., 6., 5., 5., 6., 7., 5., 5., 7., 6., 6., 6., 6., 6.,\n",
       "       7., 7., 7., 7., 6., 5., 6., 6., 6., 6., 6., 6., 6., 6., 6., 5., 7.,\n",
       "       7., 6., 6., 6., 7., 5., 6., 5., 5., 6., 5., 6., 6., 7., 5., 6., 6.,\n",
       "       5., 7., 5., 7., 5., 6., 6., 6., 8., 6., 6., 6., 7., 6., 6., 5., 6.,\n",
       "       6., 5., 6., 8., 6., 5., 7., 5., 7., 5., 5., 6., 5., 5., 5., 6., 5.,\n",
       "       7., 6., 5., 6., 5., 6., 7., 6., 5., 8., 6., 5., 5., 7., 5., 5., 5.,\n",
       "       6., 7., 6., 6., 6., 5., 7., 8., 6., 6., 6., 6., 5., 6., 6., 4., 6.,\n",
       "       7., 8., 5., 5., 6., 6., 6., 6., 7., 5., 6., 6., 6., 5., 7., 7., 7.,\n",
       "       5., 6., 5., 5., 6., 6., 5., 4., 5., 6., 5., 6., 5., 6., 6., 6., 8.,\n",
       "       7., 5., 7., 6., 5., 5., 6., 5., 5., 5., 4., 8., 5., 6., 5., 6., 4.,\n",
       "       8., 6., 5., 7., 7., 7., 7., 5., 6., 7., 6., 5., 6., 6., 6., 6., 5.,\n",
       "       6., 6., 7., 7., 6., 5., 6., 6., 5., 7., 7., 6., 6., 6., 6., 7., 5.,\n",
       "       6., 7., 7., 6., 7., 5., 6., 6., 5., 7., 6., 6., 5., 8., 6., 6., 5.,\n",
       "       5., 4., 6., 6., 6., 5., 6., 8., 7., 7., 6., 5., 6., 6., 5., 7., 6.,\n",
       "       6., 5., 6., 6., 5., 6., 5., 5., 6., 5., 6., 8., 6., 4., 6., 6., 6.,\n",
       "       6., 6., 7., 6., 5., 6., 6., 5., 7., 4., 5., 6., 6., 5., 6., 7., 6.,\n",
       "       5., 7., 7., 5., 5., 5., 6., 6., 7., 7., 6., 6., 6., 5., 6., 8., 7.,\n",
       "       6., 6., 7., 7., 6., 5., 6., 6., 6., 9., 5., 5., 7., 5., 6., 5., 6.,\n",
       "       5., 5., 5., 7., 6., 5., 6., 7., 7., 7., 7., 7., 6., 6., 6., 6., 5.,\n",
       "       5., 8., 6., 6., 6., 6., 7., 7., 7., 5., 5.])"
      ]
     },
     "execution_count": 18,
     "metadata": {},
     "output_type": "execute_result"
    }
   ],
   "source": [
    "y_pred_regd"
   ]
  },
  {
   "cell_type": "code",
   "execution_count": 19,
   "metadata": {},
   "outputs": [
    {
     "data": {
      "text/plain": [
       "0.19219220771166767"
      ]
     },
     "execution_count": 19,
     "metadata": {},
     "output_type": "execute_result"
    }
   ],
   "source": [
    "#R2\n",
    "r2_score(y_test, y_pred_regd)"
   ]
  },
  {
   "cell_type": "code",
   "execution_count": 20,
   "metadata": {},
   "outputs": [
    {
     "data": {
      "text/plain": [
       "RandomForestRegressor(bootstrap=True, criterion='mse', max_depth=None,\n",
       "           max_features='auto', max_leaf_nodes=None,\n",
       "           min_impurity_decrease=0.0, min_impurity_split=None,\n",
       "           min_samples_leaf=1, min_samples_split=2,\n",
       "           min_weight_fraction_leaf=0.0, n_estimators=4, n_jobs=None,\n",
       "           oob_score=False, random_state=None, verbose=0, warm_start=False)"
      ]
     },
     "execution_count": 20,
     "metadata": {},
     "output_type": "execute_result"
    }
   ],
   "source": [
    "#Random Forest\n",
    "from sklearn.ensemble import RandomForestRegressor\n",
    "reg_forest = RandomForestRegressor(n_estimators=4)\n",
    "reg_forest.fit(x_train, y_train)"
   ]
  },
  {
   "cell_type": "code",
   "execution_count": 21,
   "metadata": {},
   "outputs": [],
   "source": [
    "y_pred_reg_forest = reg_forest.predict(x_test)"
   ]
  },
  {
   "cell_type": "code",
   "execution_count": 22,
   "metadata": {},
   "outputs": [
    {
     "data": {
      "text/plain": [
       "array([6.  , 5.5 , 5.5 , 5.75, 5.25, 5.75, 5.25, 5.75, 6.75, 5.5 , 5.  ,\n",
       "       6.  , 6.  , 4.75, 4.75, 6.25, 6.25, 6.  , 6.  , 5.25, 5.5 , 5.25,\n",
       "       6.  , 6.75, 5.75, 6.25, 6.5 , 5.75, 6.  , 5.  , 5.5 , 5.5 , 7.  ,\n",
       "       5.5 , 6.75, 5.25, 5.5 , 6.5 , 7.25, 5.5 , 5.75, 6.25, 6.25, 7.25,\n",
       "       6.25, 5.  , 6.5 , 5.5 , 5.  , 6.25, 5.5 , 6.5 , 6.5 , 6.25, 6.75,\n",
       "       6.25, 6.5 , 5.5 , 4.5 , 5.25, 7.  , 6.  , 6.  , 6.75, 4.75, 6.  ,\n",
       "       5.5 , 6.75, 5.25, 6.25, 5.75, 6.25, 5.75, 5.75, 6.75, 5.5 , 5.  ,\n",
       "       6.  , 7.5 , 6.25, 5.75, 6.5 , 5.  , 6.  , 6.  , 5.5 , 5.25, 6.  ,\n",
       "       5.75, 6.5 , 5.75, 5.25, 7.25, 4.75, 5.25, 5.  , 5.  , 5.5 , 6.  ,\n",
       "       5.5 , 6.75, 6.75, 5.5 , 6.25, 6.  , 6.25, 6.25, 7.  , 6.  , 6.5 ,\n",
       "       5.5 , 5.75, 6.75, 7.  , 5.75, 5.  , 5.25, 6.5 , 7.25, 5.25, 5.75,\n",
       "       6.  , 6.5 , 6.  , 5.75, 6.5 , 4.75, 6.  , 5.  , 5.5 , 5.  , 6.  ,\n",
       "       6.75, 6.  , 5.25, 6.  , 6.  , 5.  , 5.  , 5.  , 5.  , 6.75, 6.75,\n",
       "       7.25, 7.75, 5.  , 6.  , 5.75, 5.25, 5.25, 5.  , 6.  , 7.  , 6.  ,\n",
       "       5.75, 6.75, 6.75, 6.  , 5.5 , 6.75, 6.  , 6.75, 6.5 , 7.25, 7.5 ,\n",
       "       5.5 , 5.75, 5.25, 4.75, 5.75, 6.25, 5.75, 5.25, 6.25, 5.  , 6.25,\n",
       "       5.5 , 6.25, 4.25, 7.25, 6.75, 5.25, 5.  , 6.25, 6.  , 5.25, 5.5 ,\n",
       "       7.  , 6.  , 6.  , 6.25, 6.25, 6.  , 5.75, 4.25, 6.25, 5.75, 6.25,\n",
       "       5.5 , 5.  , 5.75, 5.5 , 5.25, 6.  , 5.75, 6.25, 6.5 , 6.25, 5.  ,\n",
       "       6.5 , 5.75, 6.  , 7.  , 7.5 , 6.25, 5.5 , 5.75, 8.  , 5.  , 6.25,\n",
       "       6.  , 6.  , 7.5 , 6.75, 6.25, 6.5 , 4.5 , 7.  , 6.  , 5.25, 8.  ,\n",
       "       4.5 , 5.  , 5.5 , 6.5 , 6.75, 6.5 , 6.25, 5.  , 6.5 , 6.  , 5.25,\n",
       "       5.  , 5.75, 6.  , 6.75, 6.75, 5.75, 5.75, 5.  , 5.25, 5.25, 5.5 ,\n",
       "       5.5 , 5.5 , 5.25, 6.  , 7.75, 5.75, 5.25, 6.25, 5.5 , 6.  , 6.  ,\n",
       "       6.5 , 5.25, 6.75, 7.  , 6.  , 5.75, 6.5 , 5.5 , 5.25, 4.5 , 6.  ,\n",
       "       5.75, 7.  , 6.5 , 7.  , 7.  , 5.  , 5.75, 6.  , 6.  , 5.5 , 6.25,\n",
       "       5.75, 6.25, 6.25, 5.  , 5.  , 6.  , 6.5 , 5.  , 7.25, 6.25, 5.25,\n",
       "       6.25, 5.5 , 5.75, 5.5 , 5.5 , 6.5 , 4.5 , 5.75, 6.5 , 6.  , 6.  ,\n",
       "       6.  , 6.5 , 7.25, 6.25, 5.  , 5.75, 5.5 , 5.  , 5.25, 5.25, 5.75,\n",
       "       6.5 , 6.25, 7.5 , 5.75, 5.75, 6.  , 5.25, 6.5 , 5.25, 6.  , 6.75,\n",
       "       5.75, 6.75, 6.  , 5.25, 6.5 , 5.25, 5.75, 5.75, 7.25, 5.5 , 5.5 ,\n",
       "       6.  , 6.5 , 5.75, 7.5 , 6.75, 6.75, 5.5 , 6.5 , 6.  , 5.5 , 5.75,\n",
       "       6.25, 5.  , 6.25, 5.25, 5.25, 6.25, 5.5 , 5.75, 6.25, 6.75, 5.5 ,\n",
       "       5.75, 6.  , 5.75, 7.  , 5.5 , 5.75, 6.75, 5.  , 5.5 , 6.  , 5.75,\n",
       "       5.75, 5.5 , 7.  , 6.  , 6.5 , 5.75, 5.75, 6.  , 5.75, 5.5 , 5.  ,\n",
       "       5.75, 7.  , 7.  , 5.  , 7.  , 7.5 , 6.  , 5.  , 6.75, 7.  , 5.  ,\n",
       "       5.25, 6.5 , 5.25, 5.75, 6.75, 6.25, 6.25, 6.25, 5.75, 6.75, 6.5 ,\n",
       "       6.5 , 6.5 , 5.25, 5.75, 5.5 , 6.  , 6.75, 6.  , 7.25, 5.75, 5.5 ,\n",
       "       5.5 , 6.  , 7.  , 7.  , 8.  , 6.5 , 4.5 , 7.5 , 5.25, 5.  , 5.75,\n",
       "       4.75, 5.  , 5.25, 5.25, 5.  , 6.75, 5.75, 6.  , 5.25, 5.5 , 5.5 ,\n",
       "       6.  , 5.25, 6.25, 6.  , 6.75, 6.  , 5.  , 6.  , 5.  , 6.  , 5.5 ,\n",
       "       6.75, 6.  , 6.5 , 5.5 , 7.25, 5.75, 5.75, 5.25, 5.25, 6.  , 6.5 ,\n",
       "       6.  , 7.  , 6.  , 5.5 , 6.  , 5.  , 7.5 , 7.  , 5.5 , 6.  , 5.25,\n",
       "       5.25, 4.75, 6.75, 6.  , 7.  , 7.  , 4.75, 6.  , 6.5 , 6.25, 5.25,\n",
       "       5.75, 6.25, 5.5 , 6.  , 6.25, 5.5 , 6.25, 5.5 , 6.  , 6.5 , 6.  ,\n",
       "       6.  , 5.5 , 5.5 , 6.5 , 5.  , 5.75, 6.75, 5.75, 6.  , 6.  , 5.25,\n",
       "       6.  , 5.25, 6.25, 5.75, 4.75, 7.  , 6.  , 6.  , 6.25, 5.75, 6.  ,\n",
       "       6.25, 5.25, 5.75, 6.  , 6.  , 6.25, 6.  , 6.  , 6.5 , 7.75, 5.5 ,\n",
       "       5.25, 5.5 , 5.25, 5.75, 7.  , 5.75, 6.  , 6.  , 5.75, 6.  , 6.25,\n",
       "       6.25, 5.75, 5.5 , 7.  , 6.5 , 6.25, 5.25, 5.75, 5.5 , 6.25, 5.25,\n",
       "       6.25, 6.  , 5.5 , 6.25, 5.5 , 5.5 , 5.  , 6.  , 6.  , 6.  , 6.  ,\n",
       "       5.  , 6.  , 6.5 , 5.75, 4.5 , 5.25, 7.  , 6.25, 5.  , 5.25, 6.25,\n",
       "       7.  , 6.5 , 5.  , 5.25, 5.  , 5.25, 5.25, 5.25, 6.5 , 4.75, 5.  ,\n",
       "       5.75, 5.5 , 5.5 , 6.75, 7.  , 6.  , 5.25, 7.5 , 6.25, 5.75, 5.  ,\n",
       "       5.  , 5.  , 7.  , 6.75, 4.75, 5.75, 6.  , 6.5 , 5.75, 6.25, 6.75,\n",
       "       6.  , 5.75, 6.25, 6.  , 6.25, 5.25, 5.25, 6.25, 5.5 , 6.25, 6.  ,\n",
       "       6.  , 6.  , 6.  , 5.5 , 6.5 , 5.  , 6.5 , 5.75, 6.5 , 5.25, 5.5 ,\n",
       "       5.75, 6.  , 6.  , 5.  , 5.  , 6.  , 6.  , 6.25, 5.  , 5.25, 6.  ,\n",
       "       5.75, 7.  , 6.25, 5.25, 5.75, 6.  , 7.  , 5.75, 7.25, 8.  , 6.5 ,\n",
       "       5.75, 6.  , 5.5 , 5.5 , 6.25, 6.  , 5.5 , 5.25, 5.75, 6.  , 6.25,\n",
       "       5.5 , 6.75, 6.  , 6.75, 6.5 , 7.5 , 6.75, 6.  , 5.25, 5.75, 5.75,\n",
       "       6.  , 5.25, 6.  , 6.  , 6.  , 6.  , 5.25, 5.5 , 6.  , 6.25, 5.25,\n",
       "       6.  , 6.75, 6.  , 5.5 , 6.25, 5.  , 6.25, 5.5 , 5.75, 6.  , 6.  ,\n",
       "       6.5 , 6.  , 6.  , 6.  , 5.  , 6.75, 5.25, 7.5 , 5.25, 5.5 , 5.25,\n",
       "       6.  , 6.5 , 5.  , 7.  , 6.25, 6.5 , 6.  , 6.5 , 5.5 , 6.5 , 6.  ,\n",
       "       5.5 , 5.75, 6.75, 6.  , 5.  , 6.75, 5.5 , 5.75, 4.75, 5.75, 5.5 ,\n",
       "       5.  , 5.  , 5.  , 5.5 , 5.25, 6.75, 6.25, 5.  , 5.25, 5.  , 6.  ,\n",
       "       7.25, 6.  , 5.75, 6.75, 5.75, 5.75, 5.5 , 7.  , 5.  , 5.  , 5.  ,\n",
       "       6.5 , 6.5 , 6.75, 5.25, 6.5 , 5.25, 6.25, 5.75, 6.  , 5.5 , 5.5 ,\n",
       "       6.75, 5.75, 5.75, 6.  , 4.25, 6.  , 6.5 , 6.75, 6.25, 5.5 , 6.75,\n",
       "       6.  , 6.25, 5.75, 5.5 , 5.5 , 6.25, 6.25, 6.  , 5.75, 6.25, 6.25,\n",
       "       7.  , 4.75, 6.  , 5.5 , 4.5 , 6.25, 5.75, 5.  , 5.5 , 5.25, 6.  ,\n",
       "       5.25, 6.25, 5.  , 5.25, 6.25, 6.  , 6.75, 7.25, 5.5 , 6.75, 6.  ,\n",
       "       6.5 , 5.25, 6.  , 6.  , 6.75, 5.5 , 5.  , 8.  , 5.75, 6.  , 5.75,\n",
       "       6.  , 4.  , 6.75, 6.25, 5.  , 6.5 , 5.75, 6.75, 6.5 , 5.25, 6.  ,\n",
       "       6.25, 5.5 , 5.  , 6.75, 6.  , 5.75, 5.25, 5.  , 6.  , 5.75, 7.  ,\n",
       "       6.25, 6.25, 5.25, 6.25, 6.25, 5.  , 6.5 , 6.25, 5.75, 6.25, 6.  ,\n",
       "       6.  , 7.  , 5.75, 5.75, 6.5 , 6.  , 6.25, 6.  , 5.  , 6.25, 6.5 ,\n",
       "       5.  , 6.  , 5.25, 6.25, 5.25, 5.5 , 6.  , 6.5 , 5.  , 5.5 , 4.  ,\n",
       "       5.75, 5.75, 5.75, 5.5 , 6.  , 7.  , 6.  , 6.25, 6.5 , 5.  , 6.  ,\n",
       "       5.75, 5.5 , 6.25, 6.25, 6.  , 5.25, 5.75, 6.25, 5.25, 6.25, 5.  ,\n",
       "       5.5 , 6.25, 4.75, 6.  , 6.25, 5.75, 5.75, 5.75, 6.  , 6.  , 5.75,\n",
       "       5.75, 6.25, 5.75, 5.25, 5.75, 6.  , 5.  , 6.75, 6.25, 5.5 , 5.75,\n",
       "       6.  , 5.5 , 7.  , 5.75, 5.5 , 5.75, 6.75, 7.  , 5.5 , 5.25, 5.  ,\n",
       "       7.  , 5.25, 6.  , 6.5 , 6.5 , 6.  , 5.75, 5.25, 5.25, 6.75, 7.25,\n",
       "       5.75, 6.  , 6.  , 6.75, 6.  , 5.75, 6.25, 6.  , 5.75, 5.25, 6.5 ,\n",
       "       5.5 , 6.75, 5.  , 6.25, 5.25, 6.  , 5.25, 5.25, 6.5 , 6.25, 6.  ,\n",
       "       4.75, 6.5 , 7.  , 6.  , 6.  , 7.  , 6.5 , 6.  , 5.75, 5.25, 5.75,\n",
       "       5.5 , 5.5 , 7.25, 5.75, 5.75, 5.75, 5.25, 6.25, 7.  , 6.5 , 5.5 ,\n",
       "       5.5 ])"
      ]
     },
     "execution_count": 22,
     "metadata": {},
     "output_type": "execute_result"
    }
   ],
   "source": [
    "y_pred_reg_forest"
   ]
  },
  {
   "cell_type": "code",
   "execution_count": 23,
   "metadata": {},
   "outputs": [
    {
     "data": {
      "text/plain": [
       "0.43711433909219166"
      ]
     },
     "execution_count": 23,
     "metadata": {},
     "output_type": "execute_result"
    }
   ],
   "source": [
    "r2_score(y_test, y_pred_reg_forest)"
   ]
  },
  {
   "cell_type": "code",
   "execution_count": 24,
   "metadata": {},
   "outputs": [
    {
     "name": "stderr",
     "output_type": "stream",
     "text": [
      "D:\\DS\\anaconda3\\lib\\site-packages\\sklearn\\linear_model\\logistic.py:433: FutureWarning: Default solver will be changed to 'lbfgs' in 0.22. Specify a solver to silence this warning.\n",
      "  FutureWarning)\n",
      "D:\\DS\\anaconda3\\lib\\site-packages\\sklearn\\linear_model\\logistic.py:460: FutureWarning: Default multi_class will be changed to 'auto' in 0.22. Specify the multi_class option to silence this warning.\n",
      "  \"this warning.\", FutureWarning)\n"
     ]
    },
    {
     "data": {
      "text/plain": [
       "LogisticRegression(C=1.0, class_weight=None, dual=False, fit_intercept=True,\n",
       "          intercept_scaling=1, max_iter=100, multi_class='warn',\n",
       "          n_jobs=None, penalty='l2', random_state=None, solver='warn',\n",
       "          tol=0.0001, verbose=0, warm_start=False)"
      ]
     },
     "execution_count": 24,
     "metadata": {},
     "output_type": "execute_result"
    }
   ],
   "source": [
    "#Classification\n",
    "#Logistic\n",
    "from sklearn.linear_model import LogisticRegression\n",
    "log = LogisticRegression()\n",
    "log.fit(x_train, y_train)"
   ]
  },
  {
   "cell_type": "code",
   "execution_count": 25,
   "metadata": {},
   "outputs": [],
   "source": [
    "y_pred_log = log.predict(x_test)"
   ]
  },
  {
   "cell_type": "code",
   "execution_count": 26,
   "metadata": {},
   "outputs": [
    {
     "data": {
      "text/plain": [
       "array([6, 5, 5, 6, 6, 6, 5, 6, 6, 6, 5, 6, 6, 5, 5, 6, 6, 6, 6, 5, 5, 5,\n",
       "       6, 6, 6, 6, 6, 6, 5, 7, 5, 6, 6, 6, 6, 6, 6, 7, 6, 5, 6, 6, 6, 6,\n",
       "       5, 6, 6, 5, 5, 6, 6, 6, 6, 6, 6, 6, 6, 5, 5, 5, 6, 6, 6, 6, 5, 6,\n",
       "       6, 6, 5, 6, 6, 6, 5, 5, 6, 6, 5, 6, 6, 6, 5, 6, 6, 5, 6, 5, 5, 6,\n",
       "       6, 6, 5, 6, 6, 5, 6, 6, 5, 6, 6, 5, 6, 6, 6, 6, 5, 6, 6, 6, 6, 6,\n",
       "       6, 6, 6, 6, 6, 5, 5, 6, 6, 6, 6, 6, 6, 6, 5, 6, 5, 6, 5, 6, 5, 6,\n",
       "       6, 5, 5, 6, 6, 5, 6, 5, 6, 6, 6, 7, 6, 6, 6, 5, 5, 5, 5, 6, 7, 6,\n",
       "       6, 6, 6, 5, 5, 6, 6, 6, 6, 7, 6, 6, 6, 6, 5, 6, 6, 5, 5, 6, 5, 6,\n",
       "       6, 6, 5, 6, 6, 5, 6, 6, 6, 5, 6, 6, 6, 6, 6, 6, 6, 5, 5, 6, 5, 6,\n",
       "       6, 5, 6, 5, 6, 6, 6, 6, 6, 5, 5, 6, 5, 6, 6, 6, 6, 6, 6, 6, 5, 6,\n",
       "       6, 6, 6, 6, 6, 6, 5, 6, 6, 6, 6, 5, 5, 6, 6, 6, 6, 6, 5, 5, 6, 5,\n",
       "       6, 6, 6, 6, 6, 6, 6, 5, 5, 5, 5, 5, 6, 6, 6, 6, 6, 6, 6, 6, 6, 6,\n",
       "       6, 5, 6, 5, 6, 6, 6, 5, 5, 5, 6, 6, 6, 6, 6, 6, 5, 6, 6, 6, 6, 6,\n",
       "       6, 6, 6, 5, 5, 5, 6, 6, 6, 6, 6, 5, 5, 5, 5, 5, 6, 5, 6, 6, 6, 6,\n",
       "       6, 6, 6, 6, 5, 5, 6, 5, 5, 5, 6, 6, 6, 6, 6, 6, 6, 6, 6, 5, 6, 6,\n",
       "       6, 6, 6, 5, 6, 6, 5, 6, 6, 5, 5, 5, 6, 6, 6, 6, 6, 6, 6, 6, 6, 5,\n",
       "       6, 6, 6, 5, 5, 6, 6, 6, 6, 6, 6, 5, 6, 6, 6, 6, 6, 6, 5, 5, 6, 6,\n",
       "       6, 5, 6, 6, 6, 5, 6, 6, 5, 5, 5, 5, 6, 6, 6, 6, 6, 6, 6, 6, 7, 5,\n",
       "       6, 7, 6, 6, 6, 6, 6, 5, 6, 6, 6, 6, 6, 5, 6, 6, 6, 6, 6, 6, 5, 6,\n",
       "       6, 6, 6, 6, 5, 6, 5, 6, 5, 6, 6, 5, 6, 5, 5, 5, 6, 6, 6, 6, 6, 5,\n",
       "       5, 6, 6, 6, 6, 6, 6, 6, 6, 6, 6, 6, 6, 6, 7, 6, 6, 6, 6, 5, 5, 6,\n",
       "       6, 6, 6, 5, 6, 5, 6, 7, 5, 5, 5, 5, 5, 6, 6, 6, 6, 5, 5, 6, 6, 6,\n",
       "       6, 6, 6, 6, 6, 5, 6, 6, 6, 6, 5, 6, 5, 5, 6, 6, 6, 6, 5, 6, 6, 6,\n",
       "       6, 6, 6, 6, 5, 6, 6, 5, 5, 6, 6, 6, 5, 5, 6, 6, 6, 6, 6, 6, 6, 6,\n",
       "       6, 5, 5, 5, 6, 6, 6, 6, 6, 6, 6, 6, 5, 5, 5, 6, 6, 5, 6, 5, 5, 5,\n",
       "       6, 6, 6, 6, 5, 5, 6, 6, 6, 6, 6, 6, 5, 6, 6, 5, 5, 6, 6, 6, 6, 6,\n",
       "       6, 6, 5, 5, 5, 5, 6, 5, 6, 6, 5, 5, 5, 5, 6, 6, 6, 5, 6, 6, 5, 6,\n",
       "       5, 6, 6, 6, 5, 5, 6, 6, 5, 6, 6, 6, 6, 6, 6, 6, 6, 5, 6, 5, 6, 6,\n",
       "       6, 6, 6, 5, 7, 5, 6, 6, 6, 6, 5, 6, 6, 6, 6, 6, 6, 6, 6, 6, 5, 6,\n",
       "       6, 6, 6, 5, 6, 6, 6, 6, 6, 5, 6, 6, 6, 5, 5, 6, 6, 5, 5, 6, 6, 6,\n",
       "       6, 6, 6, 7, 6, 6, 6, 6, 5, 6, 6, 6, 5, 6, 6, 5, 6, 6, 6, 6, 6, 6,\n",
       "       6, 6, 6, 6, 6, 5, 6, 6, 5, 6, 5, 6, 6, 6, 6, 5, 6, 6, 7, 6, 5, 6,\n",
       "       6, 6, 5, 6, 6, 5, 6, 6, 5, 6, 6, 6, 6, 6, 6, 6, 6, 5, 6, 5, 5, 6,\n",
       "       5, 5, 5, 6, 5, 6, 6, 5, 6, 6, 6, 6, 6, 6, 7, 6, 5, 6, 7, 5, 5, 5,\n",
       "       6, 6, 6, 6, 6, 5, 6, 6, 6, 5, 6, 6, 6, 6, 5, 5, 6, 6, 6, 6, 5, 6,\n",
       "       6, 6, 6, 6, 6, 6, 6, 6, 5, 6, 6, 6, 5, 6, 6, 6, 6, 5, 5, 5, 6, 6,\n",
       "       5, 6, 5, 5, 6, 6, 6, 6, 6, 6, 6, 6, 5, 6, 6, 6, 6, 5, 5, 5, 6, 6,\n",
       "       6, 6, 6, 6, 5, 6, 6, 6, 6, 5, 6, 7, 5, 5, 6, 6, 6, 6, 5, 6, 6, 6,\n",
       "       6, 6, 6, 5, 6, 5, 6, 6, 6, 6, 6, 6, 5, 6, 6, 6, 6, 6, 6, 5, 6, 6,\n",
       "       5, 6, 5, 5, 6, 5, 6, 6, 5, 6, 5, 6, 6, 6, 5, 6, 6, 6, 6, 6, 6, 6,\n",
       "       6, 6, 6, 6, 6, 5, 5, 6, 6, 6, 5, 5, 6, 5, 6, 6, 6, 5, 6, 6, 6, 6,\n",
       "       6, 6, 6, 5, 6, 6, 5, 6, 6, 6, 6, 6, 5, 6, 6, 6, 6, 7, 6, 5, 5, 6,\n",
       "       6, 6, 6, 6, 6, 6, 6, 5, 6, 6, 6, 6, 6, 6, 6, 6, 6, 5, 6, 6, 5, 6,\n",
       "       5, 6, 5, 6, 6, 5, 6, 5, 6, 6, 6, 5, 6, 6, 6, 6, 6, 6, 6, 6, 5, 5,\n",
       "       6, 5, 6, 6, 6, 6, 5, 6, 6, 6, 6, 5], dtype=int64)"
      ]
     },
     "execution_count": 26,
     "metadata": {},
     "output_type": "execute_result"
    }
   ],
   "source": [
    "y_pred_log"
   ]
  },
  {
   "cell_type": "code",
   "execution_count": 27,
   "metadata": {},
   "outputs": [
    {
     "data": {
      "text/plain": [
       "0.5163265306122449"
      ]
     },
     "execution_count": 27,
     "metadata": {},
     "output_type": "execute_result"
    }
   ],
   "source": [
    "#Accuracy\n",
    "from sklearn.metrics import accuracy_score\n",
    "accuracy_score(y_test, y_pred_log)"
   ]
  },
  {
   "cell_type": "code",
   "execution_count": 28,
   "metadata": {},
   "outputs": [
    {
     "data": {
      "text/plain": [
       "KNeighborsClassifier(algorithm='auto', leaf_size=30, metric='minkowski',\n",
       "           metric_params=None, n_jobs=None, n_neighbors=5, p=2,\n",
       "           weights='uniform')"
      ]
     },
     "execution_count": 28,
     "metadata": {},
     "output_type": "execute_result"
    }
   ],
   "source": [
    "#K-Nearest Neighbor\n",
    "from sklearn.neighbors import KNeighborsClassifier\n",
    "knn=KNeighborsClassifier(n_neighbors=5, metric='minkowski', p=2)\n",
    "knn.fit(x_train, y_train)"
   ]
  },
  {
   "cell_type": "code",
   "execution_count": 29,
   "metadata": {},
   "outputs": [],
   "source": [
    "y_pred_knn = knn.predict(x_test)"
   ]
  },
  {
   "cell_type": "code",
   "execution_count": 30,
   "metadata": {},
   "outputs": [
    {
     "data": {
      "text/plain": [
       "0.49081632653061225"
      ]
     },
     "execution_count": 30,
     "metadata": {},
     "output_type": "execute_result"
    }
   ],
   "source": [
    "#Accuracy\n",
    "accuracy_score(y_test, y_pred_knn)"
   ]
  },
  {
   "cell_type": "code",
   "execution_count": 31,
   "metadata": {},
   "outputs": [
    {
     "data": {
      "text/plain": [
       "GaussianNB(priors=None, var_smoothing=1e-09)"
      ]
     },
     "execution_count": 31,
     "metadata": {},
     "output_type": "execute_result"
    }
   ],
   "source": [
    "#KNN\n",
    "from sklearn.naive_bayes import GaussianNB\n",
    "class_nb=GaussianNB()\n",
    "class_nb.fit(x_train,y_train)"
   ]
  },
  {
   "cell_type": "code",
   "execution_count": 32,
   "metadata": {},
   "outputs": [],
   "source": [
    "y_pred_nb=class_nb.predict(x_test)"
   ]
  },
  {
   "cell_type": "code",
   "execution_count": 33,
   "metadata": {},
   "outputs": [
    {
     "data": {
      "text/plain": [
       "0.44387755102040816"
      ]
     },
     "execution_count": 33,
     "metadata": {},
     "output_type": "execute_result"
    }
   ],
   "source": [
    "#Accuracy\n",
    "accuracy_score(y_test, y_pred_nb)"
   ]
  },
  {
   "cell_type": "code",
   "execution_count": 34,
   "metadata": {},
   "outputs": [
    {
     "data": {
      "text/plain": [
       "SVC(C=1.0, cache_size=200, class_weight=None, coef0=0.0,\n",
       "  decision_function_shape='ovr', degree=3, gamma='auto_deprecated',\n",
       "  kernel='linear', max_iter=-1, probability=False, random_state=None,\n",
       "  shrinking=True, tol=0.001, verbose=False)"
      ]
     },
     "execution_count": 34,
     "metadata": {},
     "output_type": "execute_result"
    }
   ],
   "source": [
    "#SVM - Linear\n",
    "from sklearn.svm import SVC\n",
    "class_linear=SVC(kernel='linear')\n",
    "class_linear.fit(x_train,y_train)"
   ]
  },
  {
   "cell_type": "code",
   "execution_count": 35,
   "metadata": {},
   "outputs": [],
   "source": [
    "y_pred_linear=class_linear.predict(x_test)"
   ]
  },
  {
   "cell_type": "code",
   "execution_count": 36,
   "metadata": {},
   "outputs": [
    {
     "data": {
      "text/plain": [
       "0.5142857142857142"
      ]
     },
     "execution_count": 36,
     "metadata": {},
     "output_type": "execute_result"
    }
   ],
   "source": [
    "#Accuracy\n",
    "accuracy_score(y_test, y_pred_linear)"
   ]
  },
  {
   "cell_type": "code",
   "execution_count": 37,
   "metadata": {},
   "outputs": [
    {
     "name": "stderr",
     "output_type": "stream",
     "text": [
      "D:\\DS\\anaconda3\\lib\\site-packages\\sklearn\\svm\\base.py:196: FutureWarning: The default value of gamma will change from 'auto' to 'scale' in version 0.22 to account better for unscaled features. Set gamma explicitly to 'auto' or 'scale' to avoid this warning.\n",
      "  \"avoid this warning.\", FutureWarning)\n"
     ]
    },
    {
     "data": {
      "text/plain": [
       "SVC(C=1.0, cache_size=200, class_weight=None, coef0=0.0,\n",
       "  decision_function_shape='ovr', degree=3, gamma='auto_deprecated',\n",
       "  kernel='rbf', max_iter=-1, probability=False, random_state=None,\n",
       "  shrinking=True, tol=0.001, verbose=False)"
      ]
     },
     "execution_count": 37,
     "metadata": {},
     "output_type": "execute_result"
    }
   ],
   "source": [
    "#SVM - RBF\n",
    "from sklearn.svm import SVC\n",
    "class_rbf=SVC(kernel='rbf')\n",
    "class_rbf.fit(x_train,y_train)"
   ]
  },
  {
   "cell_type": "code",
   "execution_count": 38,
   "metadata": {},
   "outputs": [],
   "source": [
    "y_pred_rbf=class_rbf.predict(x_test)"
   ]
  },
  {
   "cell_type": "code",
   "execution_count": 39,
   "metadata": {},
   "outputs": [
    {
     "data": {
      "text/plain": [
       "0.5704081632653061"
      ]
     },
     "execution_count": 39,
     "metadata": {},
     "output_type": "execute_result"
    }
   ],
   "source": [
    "#Accuracy\n",
    "accuracy_score(y_test, y_pred_rbf)"
   ]
  },
  {
   "cell_type": "code",
   "execution_count": 40,
   "metadata": {},
   "outputs": [
    {
     "name": "stderr",
     "output_type": "stream",
     "text": [
      "D:\\DS\\anaconda3\\lib\\site-packages\\sklearn\\svm\\base.py:196: FutureWarning: The default value of gamma will change from 'auto' to 'scale' in version 0.22 to account better for unscaled features. Set gamma explicitly to 'auto' or 'scale' to avoid this warning.\n",
      "  \"avoid this warning.\", FutureWarning)\n"
     ]
    },
    {
     "data": {
      "text/plain": [
       "SVC(C=1.0, cache_size=200, class_weight=None, coef0=0.0,\n",
       "  decision_function_shape='ovr', degree=3, gamma='auto_deprecated',\n",
       "  kernel='sigmoid', max_iter=-1, probability=False, random_state=None,\n",
       "  shrinking=True, tol=0.001, verbose=False)"
      ]
     },
     "execution_count": 40,
     "metadata": {},
     "output_type": "execute_result"
    }
   ],
   "source": [
    "#SVM - Sigmoid\n",
    "from sklearn.svm import SVC\n",
    "class_sigmoid=SVC(kernel='sigmoid')\n",
    "class_sigmoid.fit(x_train,y_train)"
   ]
  },
  {
   "cell_type": "code",
   "execution_count": 41,
   "metadata": {},
   "outputs": [],
   "source": [
    "y_pred_sigmoid=class_sigmoid.predict(x_test)"
   ]
  },
  {
   "cell_type": "code",
   "execution_count": 42,
   "metadata": {},
   "outputs": [
    {
     "data": {
      "text/plain": [
       "0.4520408163265306"
      ]
     },
     "execution_count": 42,
     "metadata": {},
     "output_type": "execute_result"
    }
   ],
   "source": [
    "#Accuracy\n",
    "accuracy_score(y_test, y_pred_sigmoid)"
   ]
  },
  {
   "cell_type": "code",
   "execution_count": 43,
   "metadata": {},
   "outputs": [
    {
     "data": {
      "text/plain": [
       "DecisionTreeClassifier(class_weight=None, criterion='entropy', max_depth=None,\n",
       "            max_features=None, max_leaf_nodes=None,\n",
       "            min_impurity_decrease=0.0, min_impurity_split=None,\n",
       "            min_samples_leaf=1, min_samples_split=2,\n",
       "            min_weight_fraction_leaf=0.0, presort=False, random_state=None,\n",
       "            splitter='best')"
      ]
     },
     "execution_count": 43,
     "metadata": {},
     "output_type": "execute_result"
    }
   ],
   "source": [
    "# # #Entropy - Decision Tree\n",
    "from sklearn.tree import DecisionTreeClassifier\n",
    "class_tree=DecisionTreeClassifier(criterion=\"entropy\")\n",
    "class_tree.fit(x_train,y_train)"
   ]
  },
  {
   "cell_type": "code",
   "execution_count": 44,
   "metadata": {},
   "outputs": [],
   "source": [
    "y_pred_tree=class_tree.predict(x_test)"
   ]
  },
  {
   "cell_type": "code",
   "execution_count": 45,
   "metadata": {},
   "outputs": [
    {
     "data": {
      "text/plain": [
       "0.6112244897959184"
      ]
     },
     "execution_count": 45,
     "metadata": {},
     "output_type": "execute_result"
    }
   ],
   "source": [
    "#Accuracy\n",
    "accuracy_score(y_test, y_pred_tree)"
   ]
  },
  {
   "cell_type": "code",
   "execution_count": 46,
   "metadata": {},
   "outputs": [
    {
     "data": {
      "text/plain": [
       "DecisionTreeClassifier(class_weight=None, criterion='entropy', max_depth=None,\n",
       "            max_features=None, max_leaf_nodes=None,\n",
       "            min_impurity_decrease=0.0, min_impurity_split=None,\n",
       "            min_samples_leaf=1, min_samples_split=2,\n",
       "            min_weight_fraction_leaf=0.0, presort=False, random_state=None,\n",
       "            splitter='best')"
      ]
     },
     "execution_count": 46,
     "metadata": {},
     "output_type": "execute_result"
    }
   ],
   "source": [
    "# # #Entropy - Decision Tree\n",
    "from sklearn.tree import DecisionTreeClassifier\n",
    "class_tree=DecisionTreeClassifier(criterion=\"entropy\")\n",
    "class_tree.fit(x_train,y_train)"
   ]
  },
  {
   "cell_type": "code",
   "execution_count": 47,
   "metadata": {},
   "outputs": [],
   "source": [
    "y_pred_tree=class_tree.predict(x_test)"
   ]
  },
  {
   "cell_type": "code",
   "execution_count": 48,
   "metadata": {},
   "outputs": [
    {
     "data": {
      "text/plain": [
       "0.6153061224489796"
      ]
     },
     "execution_count": 48,
     "metadata": {},
     "output_type": "execute_result"
    }
   ],
   "source": [
    "#Accuracy\n",
    "accuracy_score(y_test, y_pred_tree)"
   ]
  },
  {
   "cell_type": "code",
   "execution_count": 49,
   "metadata": {},
   "outputs": [
    {
     "data": {
      "text/plain": [
       "RandomForestClassifier(bootstrap=True, class_weight=None, criterion='entropy',\n",
       "            max_depth=None, max_features='auto', max_leaf_nodes=None,\n",
       "            min_impurity_decrease=0.0, min_impurity_split=None,\n",
       "            min_samples_leaf=1, min_samples_split=2,\n",
       "            min_weight_fraction_leaf=0.0, n_estimators=3, n_jobs=None,\n",
       "            oob_score=False, random_state=None, verbose=0,\n",
       "            warm_start=False)"
      ]
     },
     "execution_count": 49,
     "metadata": {},
     "output_type": "execute_result"
    }
   ],
   "source": [
    "from sklearn.ensemble import RandomForestClassifier\n",
    "class_random = RandomForestClassifier(n_estimators=3, criterion=\"entropy\")\n",
    "class_random.fit(x_train,y_train)"
   ]
  },
  {
   "cell_type": "code",
   "execution_count": 50,
   "metadata": {},
   "outputs": [],
   "source": [
    "y_pred_random=class_random.predict(x_test)"
   ]
  },
  {
   "cell_type": "code",
   "execution_count": 51,
   "metadata": {},
   "outputs": [
    {
     "data": {
      "text/plain": [
       "0.5938775510204082"
      ]
     },
     "execution_count": 51,
     "metadata": {},
     "output_type": "execute_result"
    }
   ],
   "source": [
    "accuracy_score(y_test, y_pred_random)"
   ]
  },
  {
   "cell_type": "code",
   "execution_count": 52,
   "metadata": {},
   "outputs": [],
   "source": [
    "#Confusion Matrix\n",
    "from sklearn.metrics import confusion_matrix\n",
    "cmlog=confusion_matrix(y_test, y_pred_log)\n",
    "cmknn=confusion_matrix(y_test, y_pred_knn)\n",
    "cmnb=confusion_matrix(y_test, y_pred_nb)\n",
    "cmlinear=confusion_matrix(y_test, y_pred_linear)\n",
    "cmrbf=confusion_matrix(y_test, y_pred_rbf)\n",
    "cmsigmoid=confusion_matrix(y_test, y_pred_sigmoid)\n",
    "cmtree=confusion_matrix(y_test, y_pred_tree)\n",
    "cmrandom=confusion_matrix(y_test, y_pred_random)"
   ]
  },
  {
   "cell_type": "code",
   "execution_count": 53,
   "metadata": {},
   "outputs": [
    {
     "data": {
      "text/plain": [
       "0.0"
      ]
     },
     "execution_count": 53,
     "metadata": {},
     "output_type": "execute_result"
    }
   ],
   "source": [
    "(cmlog[0,0]+cmlog[1,1])/sum(sum(cmlog))"
   ]
  },
  {
   "cell_type": "code",
   "execution_count": 54,
   "metadata": {},
   "outputs": [
    {
     "data": {
      "text/plain": [
       "0.0"
      ]
     },
     "execution_count": 54,
     "metadata": {},
     "output_type": "execute_result"
    }
   ],
   "source": [
    "(cmknn[0,0]+cmknn[1,1])/sum(sum(cmknn))"
   ]
  },
  {
   "cell_type": "code",
   "execution_count": 55,
   "metadata": {},
   "outputs": [
    {
     "data": {
      "text/plain": [
       "0.00816326530612245"
      ]
     },
     "execution_count": 55,
     "metadata": {},
     "output_type": "execute_result"
    }
   ],
   "source": [
    "(cmnb[0,0]+cmnb[1,1])/sum(sum(cmnb))"
   ]
  },
  {
   "cell_type": "code",
   "execution_count": 56,
   "metadata": {},
   "outputs": [
    {
     "data": {
      "text/plain": [
       "0.0"
      ]
     },
     "execution_count": 56,
     "metadata": {},
     "output_type": "execute_result"
    }
   ],
   "source": [
    "(cmlinear[0,0]+cmlinear[1,1])/sum(sum(cmlinear))"
   ]
  },
  {
   "cell_type": "code",
   "execution_count": 57,
   "metadata": {},
   "outputs": [
    {
     "data": {
      "text/plain": [
       "0.0"
      ]
     },
     "execution_count": 57,
     "metadata": {},
     "output_type": "execute_result"
    }
   ],
   "source": [
    "(cmrbf[0,0]+cmrbf[1,1])/sum(sum(cmrbf))"
   ]
  },
  {
   "cell_type": "code",
   "execution_count": 58,
   "metadata": {},
   "outputs": [
    {
     "data": {
      "text/plain": [
       "0.0"
      ]
     },
     "execution_count": 58,
     "metadata": {},
     "output_type": "execute_result"
    }
   ],
   "source": [
    "(cmsigmoid[0,0]+cmsigmoid[1,1])/sum(sum(cmsigmoid))"
   ]
  },
  {
   "cell_type": "code",
   "execution_count": 59,
   "metadata": {},
   "outputs": [
    {
     "data": {
      "text/plain": [
       "0.012244897959183673"
      ]
     },
     "execution_count": 59,
     "metadata": {},
     "output_type": "execute_result"
    }
   ],
   "source": [
    "(cmtree[0,0]+cmtree[1,1])/sum(sum(cmtree))"
   ]
  },
  {
   "cell_type": "code",
   "execution_count": 60,
   "metadata": {},
   "outputs": [
    {
     "data": {
      "text/plain": [
       "0.012244897959183673"
      ]
     },
     "execution_count": 60,
     "metadata": {},
     "output_type": "execute_result"
    }
   ],
   "source": [
    "(cmrandom[0,0]+cmrandom[1,1])/sum(sum(cmrandom))"
   ]
  },
  {
   "cell_type": "code",
   "execution_count": null,
   "metadata": {},
   "outputs": [],
   "source": []
  }
 ],
 "metadata": {
  "kernelspec": {
   "display_name": "Python 3",
   "language": "python",
   "name": "python3"
  },
  "language_info": {
   "codemirror_mode": {
    "name": "ipython",
    "version": 3
   },
   "file_extension": ".py",
   "mimetype": "text/x-python",
   "name": "python",
   "nbconvert_exporter": "python",
   "pygments_lexer": "ipython3",
   "version": "3.7.3"
  }
 },
 "nbformat": 4,
 "nbformat_minor": 2
}
