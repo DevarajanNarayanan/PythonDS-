{
 "cells": [
  {
   "cell_type": "code",
   "execution_count": 1,
   "metadata": {},
   "outputs": [],
   "source": [
    "#Import packages\n",
    "import pandas as pd\n",
    "import numpy as np\n",
    "import os\n",
    "import matplotlib.pyplot as plt\n",
    "from matplotlib.pylab import rcParams\n",
    "rcParams['figure.figsize']=10,6"
   ]
  },
  {
   "cell_type": "code",
   "execution_count": 3,
   "metadata": {},
   "outputs": [],
   "source": [
    "os.chdir(\"D:\\\\DS\\\\Python DS\\\\Sample\\\\Time Series 3\\\\\")"
   ]
  },
  {
   "cell_type": "code",
   "execution_count": 4,
   "metadata": {},
   "outputs": [],
   "source": [
    "#read file\n",
    "dataset=pd.read_csv(\"BOE-XUDLERD.csv\")\n",
    "# pd.read_csv(\"time.csv\")"
   ]
  },
  {
   "cell_type": "code",
   "execution_count": 5,
   "metadata": {},
   "outputs": [
    {
     "data": {
      "text/html": [
       "<div>\n",
       "<style scoped>\n",
       "    .dataframe tbody tr th:only-of-type {\n",
       "        vertical-align: middle;\n",
       "    }\n",
       "\n",
       "    .dataframe tbody tr th {\n",
       "        vertical-align: top;\n",
       "    }\n",
       "\n",
       "    .dataframe thead th {\n",
       "        text-align: right;\n",
       "    }\n",
       "</style>\n",
       "<table border=\"1\" class=\"dataframe\">\n",
       "  <thead>\n",
       "    <tr style=\"text-align: right;\">\n",
       "      <th></th>\n",
       "      <th>Date</th>\n",
       "      <th>Value</th>\n",
       "    </tr>\n",
       "  </thead>\n",
       "  <tbody>\n",
       "    <tr>\n",
       "      <th>0</th>\n",
       "      <td>2017-11-09</td>\n",
       "      <td>0.8603</td>\n",
       "    </tr>\n",
       "    <tr>\n",
       "      <th>1</th>\n",
       "      <td>2017-11-08</td>\n",
       "      <td>0.8631</td>\n",
       "    </tr>\n",
       "    <tr>\n",
       "      <th>2</th>\n",
       "      <td>2017-11-07</td>\n",
       "      <td>0.8639</td>\n",
       "    </tr>\n",
       "    <tr>\n",
       "      <th>3</th>\n",
       "      <td>2017-11-06</td>\n",
       "      <td>0.8631</td>\n",
       "    </tr>\n",
       "    <tr>\n",
       "      <th>4</th>\n",
       "      <td>2017-11-03</td>\n",
       "      <td>0.8608</td>\n",
       "    </tr>\n",
       "    <tr>\n",
       "      <th>5</th>\n",
       "      <td>2017-11-02</td>\n",
       "      <td>0.8567</td>\n",
       "    </tr>\n",
       "    <tr>\n",
       "      <th>6</th>\n",
       "      <td>2017-11-01</td>\n",
       "      <td>0.8608</td>\n",
       "    </tr>\n",
       "    <tr>\n",
       "      <th>7</th>\n",
       "      <td>2017-10-31</td>\n",
       "      <td>0.8584</td>\n",
       "    </tr>\n",
       "    <tr>\n",
       "      <th>8</th>\n",
       "      <td>2017-10-30</td>\n",
       "      <td>0.8601</td>\n",
       "    </tr>\n",
       "    <tr>\n",
       "      <th>9</th>\n",
       "      <td>2017-10-27</td>\n",
       "      <td>0.8635</td>\n",
       "    </tr>\n",
       "    <tr>\n",
       "      <th>10</th>\n",
       "      <td>2017-10-26</td>\n",
       "      <td>0.8545</td>\n",
       "    </tr>\n",
       "    <tr>\n",
       "      <th>11</th>\n",
       "      <td>2017-10-25</td>\n",
       "      <td>0.8467</td>\n",
       "    </tr>\n",
       "    <tr>\n",
       "      <th>12</th>\n",
       "      <td>2017-10-24</td>\n",
       "      <td>0.8502</td>\n",
       "    </tr>\n",
       "    <tr>\n",
       "      <th>13</th>\n",
       "      <td>2017-10-23</td>\n",
       "      <td>0.8514</td>\n",
       "    </tr>\n",
       "    <tr>\n",
       "      <th>14</th>\n",
       "      <td>2017-10-20</td>\n",
       "      <td>0.8484</td>\n",
       "    </tr>\n",
       "    <tr>\n",
       "      <th>15</th>\n",
       "      <td>2017-10-19</td>\n",
       "      <td>0.8437</td>\n",
       "    </tr>\n",
       "    <tr>\n",
       "      <th>16</th>\n",
       "      <td>2017-10-18</td>\n",
       "      <td>0.8491</td>\n",
       "    </tr>\n",
       "    <tr>\n",
       "      <th>17</th>\n",
       "      <td>2017-10-17</td>\n",
       "      <td>0.8510</td>\n",
       "    </tr>\n",
       "    <tr>\n",
       "      <th>18</th>\n",
       "      <td>2017-10-16</td>\n",
       "      <td>0.8477</td>\n",
       "    </tr>\n",
       "    <tr>\n",
       "      <th>19</th>\n",
       "      <td>2017-10-13</td>\n",
       "      <td>0.8449</td>\n",
       "    </tr>\n",
       "    <tr>\n",
       "      <th>20</th>\n",
       "      <td>2017-10-12</td>\n",
       "      <td>0.8442</td>\n",
       "    </tr>\n",
       "    <tr>\n",
       "      <th>21</th>\n",
       "      <td>2017-10-11</td>\n",
       "      <td>0.8442</td>\n",
       "    </tr>\n",
       "    <tr>\n",
       "      <th>22</th>\n",
       "      <td>2017-10-10</td>\n",
       "      <td>0.8462</td>\n",
       "    </tr>\n",
       "    <tr>\n",
       "      <th>23</th>\n",
       "      <td>2017-10-09</td>\n",
       "      <td>0.8519</td>\n",
       "    </tr>\n",
       "    <tr>\n",
       "      <th>24</th>\n",
       "      <td>2017-10-06</td>\n",
       "      <td>0.8522</td>\n",
       "    </tr>\n",
       "    <tr>\n",
       "      <th>25</th>\n",
       "      <td>2017-10-05</td>\n",
       "      <td>0.8536</td>\n",
       "    </tr>\n",
       "    <tr>\n",
       "      <th>26</th>\n",
       "      <td>2017-10-04</td>\n",
       "      <td>0.8503</td>\n",
       "    </tr>\n",
       "    <tr>\n",
       "      <th>27</th>\n",
       "      <td>2017-10-03</td>\n",
       "      <td>0.8508</td>\n",
       "    </tr>\n",
       "    <tr>\n",
       "      <th>28</th>\n",
       "      <td>2017-10-02</td>\n",
       "      <td>0.8522</td>\n",
       "    </tr>\n",
       "    <tr>\n",
       "      <th>29</th>\n",
       "      <td>2017-09-29</td>\n",
       "      <td>0.8460</td>\n",
       "    </tr>\n",
       "    <tr>\n",
       "      <th>...</th>\n",
       "      <td>...</td>\n",
       "      <td>...</td>\n",
       "    </tr>\n",
       "    <tr>\n",
       "      <th>10807</th>\n",
       "      <td>1975-02-12</td>\n",
       "      <td>0.7427</td>\n",
       "    </tr>\n",
       "    <tr>\n",
       "      <th>10808</th>\n",
       "      <td>1975-02-11</td>\n",
       "      <td>0.7438</td>\n",
       "    </tr>\n",
       "    <tr>\n",
       "      <th>10809</th>\n",
       "      <td>1975-02-10</td>\n",
       "      <td>0.7441</td>\n",
       "    </tr>\n",
       "    <tr>\n",
       "      <th>10810</th>\n",
       "      <td>1975-02-07</td>\n",
       "      <td>0.7477</td>\n",
       "    </tr>\n",
       "    <tr>\n",
       "      <th>10811</th>\n",
       "      <td>1975-02-06</td>\n",
       "      <td>0.7495</td>\n",
       "    </tr>\n",
       "    <tr>\n",
       "      <th>10812</th>\n",
       "      <td>1975-02-05</td>\n",
       "      <td>0.7513</td>\n",
       "    </tr>\n",
       "    <tr>\n",
       "      <th>10813</th>\n",
       "      <td>1975-02-04</td>\n",
       "      <td>0.7518</td>\n",
       "    </tr>\n",
       "    <tr>\n",
       "      <th>10814</th>\n",
       "      <td>1975-02-03</td>\n",
       "      <td>0.7450</td>\n",
       "    </tr>\n",
       "    <tr>\n",
       "      <th>10815</th>\n",
       "      <td>1975-01-31</td>\n",
       "      <td>0.7423</td>\n",
       "    </tr>\n",
       "    <tr>\n",
       "      <th>10816</th>\n",
       "      <td>1975-01-30</td>\n",
       "      <td>0.7418</td>\n",
       "    </tr>\n",
       "    <tr>\n",
       "      <th>10817</th>\n",
       "      <td>1975-01-29</td>\n",
       "      <td>0.7429</td>\n",
       "    </tr>\n",
       "    <tr>\n",
       "      <th>10818</th>\n",
       "      <td>1975-01-28</td>\n",
       "      <td>0.7357</td>\n",
       "    </tr>\n",
       "    <tr>\n",
       "      <th>10819</th>\n",
       "      <td>1975-01-27</td>\n",
       "      <td>0.7324</td>\n",
       "    </tr>\n",
       "    <tr>\n",
       "      <th>10820</th>\n",
       "      <td>1975-01-24</td>\n",
       "      <td>0.7384</td>\n",
       "    </tr>\n",
       "    <tr>\n",
       "      <th>10821</th>\n",
       "      <td>1975-01-23</td>\n",
       "      <td>0.7404</td>\n",
       "    </tr>\n",
       "    <tr>\n",
       "      <th>10822</th>\n",
       "      <td>1975-01-22</td>\n",
       "      <td>0.7416</td>\n",
       "    </tr>\n",
       "    <tr>\n",
       "      <th>10823</th>\n",
       "      <td>1975-01-21</td>\n",
       "      <td>0.7487</td>\n",
       "    </tr>\n",
       "    <tr>\n",
       "      <th>10824</th>\n",
       "      <td>1975-01-20</td>\n",
       "      <td>0.7503</td>\n",
       "    </tr>\n",
       "    <tr>\n",
       "      <th>10825</th>\n",
       "      <td>1975-01-17</td>\n",
       "      <td>0.7537</td>\n",
       "    </tr>\n",
       "    <tr>\n",
       "      <th>10826</th>\n",
       "      <td>1975-01-16</td>\n",
       "      <td>0.7546</td>\n",
       "    </tr>\n",
       "    <tr>\n",
       "      <th>10827</th>\n",
       "      <td>1975-01-15</td>\n",
       "      <td>0.7562</td>\n",
       "    </tr>\n",
       "    <tr>\n",
       "      <th>10828</th>\n",
       "      <td>1975-01-14</td>\n",
       "      <td>0.7588</td>\n",
       "    </tr>\n",
       "    <tr>\n",
       "      <th>10829</th>\n",
       "      <td>1975-01-13</td>\n",
       "      <td>0.7540</td>\n",
       "    </tr>\n",
       "    <tr>\n",
       "      <th>10830</th>\n",
       "      <td>1975-01-10</td>\n",
       "      <td>0.7534</td>\n",
       "    </tr>\n",
       "    <tr>\n",
       "      <th>10831</th>\n",
       "      <td>1975-01-09</td>\n",
       "      <td>0.7551</td>\n",
       "    </tr>\n",
       "    <tr>\n",
       "      <th>10832</th>\n",
       "      <td>1975-01-08</td>\n",
       "      <td>0.7554</td>\n",
       "    </tr>\n",
       "    <tr>\n",
       "      <th>10833</th>\n",
       "      <td>1975-01-07</td>\n",
       "      <td>0.7510</td>\n",
       "    </tr>\n",
       "    <tr>\n",
       "      <th>10834</th>\n",
       "      <td>1975-01-06</td>\n",
       "      <td>0.7524</td>\n",
       "    </tr>\n",
       "    <tr>\n",
       "      <th>10835</th>\n",
       "      <td>1975-01-03</td>\n",
       "      <td>0.7585</td>\n",
       "    </tr>\n",
       "    <tr>\n",
       "      <th>10836</th>\n",
       "      <td>1975-01-02</td>\n",
       "      <td>0.7633</td>\n",
       "    </tr>\n",
       "  </tbody>\n",
       "</table>\n",
       "<p>10837 rows × 2 columns</p>\n",
       "</div>"
      ],
      "text/plain": [
       "             Date   Value\n",
       "0      2017-11-09  0.8603\n",
       "1      2017-11-08  0.8631\n",
       "2      2017-11-07  0.8639\n",
       "3      2017-11-06  0.8631\n",
       "4      2017-11-03  0.8608\n",
       "5      2017-11-02  0.8567\n",
       "6      2017-11-01  0.8608\n",
       "7      2017-10-31  0.8584\n",
       "8      2017-10-30  0.8601\n",
       "9      2017-10-27  0.8635\n",
       "10     2017-10-26  0.8545\n",
       "11     2017-10-25  0.8467\n",
       "12     2017-10-24  0.8502\n",
       "13     2017-10-23  0.8514\n",
       "14     2017-10-20  0.8484\n",
       "15     2017-10-19  0.8437\n",
       "16     2017-10-18  0.8491\n",
       "17     2017-10-17  0.8510\n",
       "18     2017-10-16  0.8477\n",
       "19     2017-10-13  0.8449\n",
       "20     2017-10-12  0.8442\n",
       "21     2017-10-11  0.8442\n",
       "22     2017-10-10  0.8462\n",
       "23     2017-10-09  0.8519\n",
       "24     2017-10-06  0.8522\n",
       "25     2017-10-05  0.8536\n",
       "26     2017-10-04  0.8503\n",
       "27     2017-10-03  0.8508\n",
       "28     2017-10-02  0.8522\n",
       "29     2017-09-29  0.8460\n",
       "...           ...     ...\n",
       "10807  1975-02-12  0.7427\n",
       "10808  1975-02-11  0.7438\n",
       "10809  1975-02-10  0.7441\n",
       "10810  1975-02-07  0.7477\n",
       "10811  1975-02-06  0.7495\n",
       "10812  1975-02-05  0.7513\n",
       "10813  1975-02-04  0.7518\n",
       "10814  1975-02-03  0.7450\n",
       "10815  1975-01-31  0.7423\n",
       "10816  1975-01-30  0.7418\n",
       "10817  1975-01-29  0.7429\n",
       "10818  1975-01-28  0.7357\n",
       "10819  1975-01-27  0.7324\n",
       "10820  1975-01-24  0.7384\n",
       "10821  1975-01-23  0.7404\n",
       "10822  1975-01-22  0.7416\n",
       "10823  1975-01-21  0.7487\n",
       "10824  1975-01-20  0.7503\n",
       "10825  1975-01-17  0.7537\n",
       "10826  1975-01-16  0.7546\n",
       "10827  1975-01-15  0.7562\n",
       "10828  1975-01-14  0.7588\n",
       "10829  1975-01-13  0.7540\n",
       "10830  1975-01-10  0.7534\n",
       "10831  1975-01-09  0.7551\n",
       "10832  1975-01-08  0.7554\n",
       "10833  1975-01-07  0.7510\n",
       "10834  1975-01-06  0.7524\n",
       "10835  1975-01-03  0.7585\n",
       "10836  1975-01-02  0.7633\n",
       "\n",
       "[10837 rows x 2 columns]"
      ]
     },
     "execution_count": 5,
     "metadata": {},
     "output_type": "execute_result"
    }
   ],
   "source": [
    "dataset"
   ]
  },
  {
   "cell_type": "code",
   "execution_count": 6,
   "metadata": {},
   "outputs": [],
   "source": [
    "dataset['Date']=pd.to_datetime(dataset[\"Date\"], infer_datetime_format=True)\n",
    "Idataset=dataset.set_index(['Date'])"
   ]
  },
  {
   "cell_type": "code",
   "execution_count": 7,
   "metadata": {},
   "outputs": [
    {
     "data": {
      "text/html": [
       "<div>\n",
       "<style scoped>\n",
       "    .dataframe tbody tr th:only-of-type {\n",
       "        vertical-align: middle;\n",
       "    }\n",
       "\n",
       "    .dataframe tbody tr th {\n",
       "        vertical-align: top;\n",
       "    }\n",
       "\n",
       "    .dataframe thead th {\n",
       "        text-align: right;\n",
       "    }\n",
       "</style>\n",
       "<table border=\"1\" class=\"dataframe\">\n",
       "  <thead>\n",
       "    <tr style=\"text-align: right;\">\n",
       "      <th></th>\n",
       "      <th>Value</th>\n",
       "    </tr>\n",
       "    <tr>\n",
       "      <th>Date</th>\n",
       "      <th></th>\n",
       "    </tr>\n",
       "  </thead>\n",
       "  <tbody>\n",
       "    <tr>\n",
       "      <th>2017-11-09</th>\n",
       "      <td>0.8603</td>\n",
       "    </tr>\n",
       "    <tr>\n",
       "      <th>2017-11-08</th>\n",
       "      <td>0.8631</td>\n",
       "    </tr>\n",
       "    <tr>\n",
       "      <th>2017-11-07</th>\n",
       "      <td>0.8639</td>\n",
       "    </tr>\n",
       "    <tr>\n",
       "      <th>2017-11-06</th>\n",
       "      <td>0.8631</td>\n",
       "    </tr>\n",
       "    <tr>\n",
       "      <th>2017-11-03</th>\n",
       "      <td>0.8608</td>\n",
       "    </tr>\n",
       "  </tbody>\n",
       "</table>\n",
       "</div>"
      ],
      "text/plain": [
       "             Value\n",
       "Date              \n",
       "2017-11-09  0.8603\n",
       "2017-11-08  0.8631\n",
       "2017-11-07  0.8639\n",
       "2017-11-06  0.8631\n",
       "2017-11-03  0.8608"
      ]
     },
     "execution_count": 7,
     "metadata": {},
     "output_type": "execute_result"
    }
   ],
   "source": [
    "from datetime import datetime\n",
    "Idataset.head(5)"
   ]
  },
  {
   "cell_type": "code",
   "execution_count": 9,
   "metadata": {},
   "outputs": [
    {
     "data": {
      "text/plain": [
       "[<matplotlib.lines.Line2D at 0x2d2c8013f60>]"
      ]
     },
     "execution_count": 9,
     "metadata": {},
     "output_type": "execute_result"
    },
    {
     "data": {
      "image/png": "[encoded data removed]",
      "text/plain": [
       "<Figure size 432x288 with 1 Axes>"
      ]
     },
     "metadata": {
      "needs_background": "light"
     },
     "output_type": "display_data"
    }
   ],
   "source": [
    "#plot\n",
    "plt.xlabel(\"Date\")\n",
    "plt.ylabel(\"Value\")\n",
    "plt.plot(Idataset)"
   ]
  },
  {
   "cell_type": "code",
   "execution_count": 10,
   "metadata": {},
   "outputs": [
    {
     "name": "stdout",
     "output_type": "stream",
     "text": [
      "               Value\n",
      "Date                \n",
      "2017-11-09       NaN\n",
      "2017-11-08       NaN\n",
      "2017-11-07       NaN\n",
      "2017-11-06       NaN\n",
      "2017-11-03       NaN\n",
      "2017-11-02       NaN\n",
      "2017-11-01       NaN\n",
      "2017-10-31       NaN\n",
      "2017-10-30       NaN\n",
      "2017-10-27       NaN\n",
      "2017-10-26       NaN\n",
      "2017-10-25  0.859325\n",
      "2017-10-24  0.858483\n",
      "2017-10-23  0.857508\n",
      "2017-10-20  0.856217\n",
      "2017-10-19  0.854600\n",
      "2017-10-18  0.853625\n",
      "2017-10-17  0.853150\n",
      "2017-10-16  0.852058\n",
      "2017-10-13  0.850933\n",
      "2017-10-12  0.849608\n",
      "2017-10-11  0.848000\n",
      "2017-10-10  0.847308\n",
      "2017-10-09  0.847742\n",
      "2017-10-06  0.847908\n",
      "2017-10-05  0.848092\n",
      "2017-10-04  0.848250\n",
      "2017-10-03  0.848842\n",
      "2017-10-02  0.849100\n",
      "2017-09-29  0.848683\n",
      "...              ...\n",
      "1975-02-12  0.733567\n",
      "1975-02-11  0.735342\n",
      "1975-02-10  0.736883\n",
      "1975-02-07  0.738325\n",
      "1975-02-06  0.740100\n",
      "1975-02-05  0.741617\n",
      "1975-02-04  0.743133\n",
      "1975-02-03  0.743758\n",
      "1975-01-31  0.744233\n",
      "1975-01-30  0.744708\n",
      "1975-01-29  0.745100\n",
      "1975-01-28  0.744883\n",
      "1975-01-27  0.744025\n",
      "1975-01-24  0.743575\n",
      "1975-01-23  0.743267\n",
      "1975-01-22  0.742758\n",
      "1975-01-21  0.742692\n",
      "1975-01-20  0.742608\n",
      "1975-01-17  0.742767\n",
      "1975-01-16  0.743567\n",
      "1975-01-15  0.744725\n",
      "1975-01-14  0.746142\n",
      "1975-01-13  0.747067\n",
      "1975-01-10  0.748542\n",
      "1975-01-09  0.750433\n",
      "1975-01-08  0.751850\n",
      "1975-01-07  0.752733\n",
      "1975-01-06  0.753633\n",
      "1975-01-03  0.754450\n",
      "1975-01-02  0.755533\n",
      "\n",
      "[10837 rows x 1 columns]                Value\n",
      "Date                \n",
      "2017-11-09       NaN\n",
      "2017-11-08       NaN\n",
      "2017-11-07       NaN\n",
      "2017-11-06       NaN\n",
      "2017-11-03       NaN\n",
      "2017-11-02       NaN\n",
      "2017-11-01       NaN\n",
      "2017-10-31       NaN\n",
      "2017-10-30       NaN\n",
      "2017-10-27       NaN\n",
      "2017-10-26       NaN\n",
      "2017-10-25  0.004891\n",
      "2017-10-24  0.005535\n",
      "2017-10-23  0.005676\n",
      "2017-10-20  0.005851\n",
      "2017-10-19  0.006428\n",
      "2017-10-18  0.006288\n",
      "2017-10-17  0.006249\n",
      "2017-10-16  0.005927\n",
      "2017-10-13  0.005895\n",
      "2017-10-12  0.005415\n",
      "2017-10-11  0.003408\n",
      "2017-10-10  0.002747\n",
      "2017-10-09  0.003037\n",
      "2017-10-06  0.003233\n",
      "2017-10-05  0.003501\n",
      "2017-10-04  0.003558\n",
      "2017-10-03  0.003315\n",
      "2017-10-02  0.003455\n",
      "2017-09-29  0.003506\n",
      "...              ...\n",
      "1975-02-12  0.005904\n",
      "1975-02-11  0.005459\n",
      "1975-02-10  0.005055\n",
      "1975-02-07  0.005487\n",
      "1975-02-06  0.005357\n",
      "1975-02-05  0.005757\n",
      "1975-02-04  0.005849\n",
      "1975-02-03  0.005587\n",
      "1975-01-31  0.005149\n",
      "1975-01-30  0.004559\n",
      "1975-01-29  0.004131\n",
      "1975-01-28  0.004565\n",
      "1975-01-27  0.005811\n",
      "1975-01-24  0.006035\n",
      "1975-01-23  0.006100\n",
      "1975-01-22  0.005949\n",
      "1975-01-21  0.005871\n",
      "1975-01-20  0.005743\n",
      "1975-01-17  0.006038\n",
      "1975-01-16  0.006931\n",
      "1975-01-15  0.007806\n",
      "1975-01-14  0.008717\n",
      "1975-01-13  0.008928\n",
      "1975-01-10  0.008321\n",
      "1975-01-09  0.006749\n",
      "1975-01-08  0.005696\n",
      "1975-01-07  0.004443\n",
      "1975-01-06  0.002757\n",
      "1975-01-03  0.002610\n",
      "1975-01-02  0.003330\n",
      "\n",
      "[10837 rows x 1 columns]\n"
     ]
    }
   ],
   "source": [
    "#rolling for 12 months\n",
    "rolmean=Idataset.rolling(window=12).mean()\n",
    "rolstd=Idataset.rolling(window=12).std()\n",
    "print(rolmean, rolstd)"
   ]
  },
  {
   "cell_type": "code",
   "execution_count": 11,
   "metadata": {},
   "outputs": [
    {
     "data": {
      "image/png": "[encoded data removed]",
      "text/plain": [
       "<Figure size 432x288 with 1 Axes>"
      ]
     },
     "metadata": {
      "needs_background": "light"
     },
     "output_type": "display_data"
    }
   ],
   "source": [
    "#Rolling Mean and Standard Deviation\n",
    "orig=plt.plot(Idataset, color=\"blue\", label=\"Original\")\n",
    "mean=plt.plot(rolmean, color=\"red\", label=\"Rol Mean\")\n",
    "std=plt.plot(rolstd, color=\"black\", label=\"Rol STD\")\n",
    "plt.legend(loc=\"best\")\n",
    "plt.title(\"Rolling Mean and Standard Deviation\")\n",
    "plt.show(block=False)"
   ]
  },
  {
   "cell_type": "code",
   "execution_count": 12,
   "metadata": {},
   "outputs": [
    {
     "name": "stdout",
     "output_type": "stream",
     "text": [
      "Augmented Dickey Fuller Test\n",
      "ADF Test Statistic         -2.054793\n",
      "P-Value                     0.263077\n",
      "#Lags                      21.000000\n",
      "#obs                    10815.000000\n",
      "Critical Value (1%)        -3.430955\n",
      "Critical Value (5%)        -2.861807\n",
      "Critical Value (10%)       -2.566912\n",
      "dtype: float64\n"
     ]
    }
   ],
   "source": [
    "#Augmented Dickey Fuller Test\n",
    "from statsmodels.tsa.stattools import adfuller\n",
    "print(\"Augmented Dickey Fuller Test\")\n",
    "dftest=adfuller(Idataset[\"Value\"], autolag=\"AIC\")\n",
    "dfoutput=pd.Series(dftest[0:4], index=[\"ADF Test Statistic\", \"P-Value\", \"#Lags\", \"#obs\"])\n",
    "for key, value in dftest[4].items():\n",
    "    dfoutput[\"Critical Value (%s)\"%key] = value\n",
    "print(dfoutput)"
   ]
  },
  {
   "cell_type": "code",
   "execution_count": 13,
   "metadata": {},
   "outputs": [
    {
     "data": {
      "text/plain": [
       "[<matplotlib.lines.Line2D at 0x2d2c9f66f28>]"
      ]
     },
     "execution_count": 13,
     "metadata": {},
     "output_type": "execute_result"
    },
    {
     "data": {
      "image/png": "[encoded data removed]",
      "text/plain": [
       "<Figure size 432x288 with 1 Axes>"
      ]
     },
     "metadata": {
      "needs_background": "light"
     },
     "output_type": "display_data"
    }
   ],
   "source": [
    "#Trend - Y value Changed\n",
    "Idataset_log = np.log(Idataset)\n",
    "plt.plot(Idataset_log)"
   ]
  },
  {
   "cell_type": "code",
   "execution_count": 14,
   "metadata": {},
   "outputs": [
    {
     "data": {
      "text/plain": [
       "Value    0\n",
       "dtype: int64"
      ]
     },
     "execution_count": 14,
     "metadata": {},
     "output_type": "execute_result"
    }
   ],
   "source": [
    "Idataset_log.head(10)\n",
    "Idataset_log.isnull().sum()"
   ]
  },
  {
   "cell_type": "code",
   "execution_count": 15,
   "metadata": {},
   "outputs": [
    {
     "data": {
      "text/plain": [
       "[<matplotlib.lines.Line2D at 0x2d2c9fd1898>]"
      ]
     },
     "execution_count": 15,
     "metadata": {},
     "output_type": "execute_result"
    },
    {
     "data": {
      "image/png": "[encoded data removed]",
      "text/plain": [
       "<Figure size 432x288 with 1 Axes>"
      ]
     },
     "metadata": {
      "needs_background": "light"
     },
     "output_type": "display_data"
    }
   ],
   "source": [
    "#Moving for 12 months\n",
    "mavg=Idataset_log.rolling(window=12).mean()\n",
    "mstd=Idataset_log.rolling(window=12).std()\n",
    "plt.plot(Idataset_log)\n",
    "plt.plot(mavg, color=\"red\")"
   ]
  },
  {
   "cell_type": "code",
   "execution_count": 16,
   "metadata": {},
   "outputs": [
    {
     "data": {
      "text/html": [
       "<div>\n",
       "<style scoped>\n",
       "    .dataframe tbody tr th:only-of-type {\n",
       "        vertical-align: middle;\n",
       "    }\n",
       "\n",
       "    .dataframe tbody tr th {\n",
       "        vertical-align: top;\n",
       "    }\n",
       "\n",
       "    .dataframe thead th {\n",
       "        text-align: right;\n",
       "    }\n",
       "</style>\n",
       "<table border=\"1\" class=\"dataframe\">\n",
       "  <thead>\n",
       "    <tr style=\"text-align: right;\">\n",
       "      <th></th>\n",
       "      <th>Value</th>\n",
       "    </tr>\n",
       "    <tr>\n",
       "      <th>Date</th>\n",
       "      <th></th>\n",
       "    </tr>\n",
       "  </thead>\n",
       "  <tbody>\n",
       "    <tr>\n",
       "      <th>2017-11-09</th>\n",
       "      <td>NaN</td>\n",
       "    </tr>\n",
       "    <tr>\n",
       "      <th>2017-11-08</th>\n",
       "      <td>NaN</td>\n",
       "    </tr>\n",
       "    <tr>\n",
       "      <th>2017-11-07</th>\n",
       "      <td>NaN</td>\n",
       "    </tr>\n",
       "    <tr>\n",
       "      <th>2017-11-06</th>\n",
       "      <td>NaN</td>\n",
       "    </tr>\n",
       "    <tr>\n",
       "      <th>2017-11-03</th>\n",
       "      <td>NaN</td>\n",
       "    </tr>\n",
       "    <tr>\n",
       "      <th>2017-11-02</th>\n",
       "      <td>NaN</td>\n",
       "    </tr>\n",
       "    <tr>\n",
       "      <th>2017-11-01</th>\n",
       "      <td>NaN</td>\n",
       "    </tr>\n",
       "    <tr>\n",
       "      <th>2017-10-31</th>\n",
       "      <td>NaN</td>\n",
       "    </tr>\n",
       "    <tr>\n",
       "      <th>2017-10-30</th>\n",
       "      <td>NaN</td>\n",
       "    </tr>\n",
       "    <tr>\n",
       "      <th>2017-10-27</th>\n",
       "      <td>NaN</td>\n",
       "    </tr>\n",
       "    <tr>\n",
       "      <th>2017-10-26</th>\n",
       "      <td>NaN</td>\n",
       "    </tr>\n",
       "    <tr>\n",
       "      <th>2017-10-25</th>\n",
       "      <td>-0.014786</td>\n",
       "    </tr>\n",
       "  </tbody>\n",
       "</table>\n",
       "</div>"
      ],
      "text/plain": [
       "               Value\n",
       "Date                \n",
       "2017-11-09       NaN\n",
       "2017-11-08       NaN\n",
       "2017-11-07       NaN\n",
       "2017-11-06       NaN\n",
       "2017-11-03       NaN\n",
       "2017-11-02       NaN\n",
       "2017-11-01       NaN\n",
       "2017-10-31       NaN\n",
       "2017-10-30       NaN\n",
       "2017-10-27       NaN\n",
       "2017-10-26       NaN\n",
       "2017-10-25 -0.014786"
      ]
     },
     "execution_count": 16,
     "metadata": {},
     "output_type": "execute_result"
    }
   ],
   "source": [
    "#remove Nan\n",
    "Idataset_log_mvavg=Idataset_log-mavg\n",
    "Idataset_log_mvavg.head(12)"
   ]
  },
  {
   "cell_type": "code",
   "execution_count": 17,
   "metadata": {},
   "outputs": [
    {
     "data": {
      "text/html": [
       "<div>\n",
       "<style scoped>\n",
       "    .dataframe tbody tr th:only-of-type {\n",
       "        vertical-align: middle;\n",
       "    }\n",
       "\n",
       "    .dataframe tbody tr th {\n",
       "        vertical-align: top;\n",
       "    }\n",
       "\n",
       "    .dataframe thead th {\n",
       "        text-align: right;\n",
       "    }\n",
       "</style>\n",
       "<table border=\"1\" class=\"dataframe\">\n",
       "  <thead>\n",
       "    <tr style=\"text-align: right;\">\n",
       "      <th></th>\n",
       "      <th>Value</th>\n",
       "    </tr>\n",
       "    <tr>\n",
       "      <th>Date</th>\n",
       "      <th></th>\n",
       "    </tr>\n",
       "  </thead>\n",
       "  <tbody>\n",
       "    <tr>\n",
       "      <th>2017-10-25</th>\n",
       "      <td>-0.014786</td>\n",
       "    </tr>\n",
       "    <tr>\n",
       "      <th>2017-10-24</th>\n",
       "      <td>-0.009677</td>\n",
       "    </tr>\n",
       "    <tr>\n",
       "      <th>2017-10-23</th>\n",
       "      <td>-0.007129</td>\n",
       "    </tr>\n",
       "    <tr>\n",
       "      <th>2017-10-20</th>\n",
       "      <td>-0.009150</td>\n",
       "    </tr>\n",
       "    <tr>\n",
       "      <th>2017-10-19</th>\n",
       "      <td>-0.012811</td>\n",
       "    </tr>\n",
       "    <tr>\n",
       "      <th>2017-10-18</th>\n",
       "      <td>-0.005290</td>\n",
       "    </tr>\n",
       "    <tr>\n",
       "      <th>2017-10-17</th>\n",
       "      <td>-0.002499</td>\n",
       "    </tr>\n",
       "    <tr>\n",
       "      <th>2017-10-16</th>\n",
       "      <td>-0.005106</td>\n",
       "    </tr>\n",
       "    <tr>\n",
       "      <th>2017-10-13</th>\n",
       "      <td>-0.007094</td>\n",
       "    </tr>\n",
       "    <tr>\n",
       "      <th>2017-10-12</th>\n",
       "      <td>-0.006368</td>\n",
       "    </tr>\n",
       "  </tbody>\n",
       "</table>\n",
       "</div>"
      ],
      "text/plain": [
       "               Value\n",
       "Date                \n",
       "2017-10-25 -0.014786\n",
       "2017-10-24 -0.009677\n",
       "2017-10-23 -0.007129\n",
       "2017-10-20 -0.009150\n",
       "2017-10-19 -0.012811\n",
       "2017-10-18 -0.005290\n",
       "2017-10-17 -0.002499\n",
       "2017-10-16 -0.005106\n",
       "2017-10-13 -0.007094\n",
       "2017-10-12 -0.006368"
      ]
     },
     "execution_count": 17,
     "metadata": {},
     "output_type": "execute_result"
    }
   ],
   "source": [
    "#Remove NAN\n",
    "Idataset_log_mvavg.dropna(inplace=True)\n",
    "Idataset_log_mvavg.head(10)"
   ]
  },
  {
   "cell_type": "code",
   "execution_count": 18,
   "metadata": {},
   "outputs": [],
   "source": [
    "#ADF Test Function\n",
    "def test_stats(timeseries):\n",
    "    \n",
    "    #rolling Statistic\n",
    "    mavg=timeseries.rolling(window=12).mean()\n",
    "    mstd=timeseries.rolling(window=12).std()\n",
    "    \n",
    "    #Plot\n",
    "    #Rolling Mean and Standard Deviation\n",
    "    orig=plt.plot(Idataset, color=\"blue\", label=\"Original\")\n",
    "    mean=plt.plot(rolmean, color=\"red\", label=\"Rol Mean\")\n",
    "    std=plt.plot(rolstd, color=\"black\", label=\"Rol STD\")\n",
    "    plt.legend(loc=\"best\")\n",
    "    plt.title(\"Rolling Mean and Standard Deviation\")\n",
    "    plt.show(block=False)\n",
    "\n",
    "    #Augmented Dickey Fuller Test\n",
    "    from statsmodels.tsa.stattools import adfuller\n",
    "    print(\"Augmented Dickey Fuller Test\")\n",
    "    dftest=adfuller(Idataset[\"Value\"], autolag=\"AIC\")\n",
    "    dfoutput=pd.Series(dftest[0:4], index=[\"ADF Test Statistic\", \"P-Value\", \"#Lags\", \"#obs\"])\n",
    "    for key, value in dftest[4].items():\n",
    "        dfoutput[\"Critical Value (%s)\"%key] = value\n",
    "    print(dfoutput)"
   ]
  },
  {
   "cell_type": "code",
   "execution_count": 19,
   "metadata": {},
   "outputs": [
    {
     "data": {
      "image/png": "[encoded data removed]",
      "text/plain": [
       "<Figure size 432x288 with 1 Axes>"
      ]
     },
     "metadata": {
      "needs_background": "light"
     },
     "output_type": "display_data"
    },
    {
     "name": "stdout",
     "output_type": "stream",
     "text": [
      "Augmented Dickey Fuller Test\n",
      "ADF Test Statistic         -2.054793\n",
      "P-Value                     0.263077\n",
      "#Lags                      21.000000\n",
      "#obs                    10815.000000\n",
      "Critical Value (1%)        -3.430955\n",
      "Critical Value (5%)        -2.861807\n",
      "Critical Value (10%)       -2.566912\n",
      "dtype: float64\n"
     ]
    }
   ],
   "source": [
    "#plot\n",
    "test_stats(Idataset_log_mvavg)"
   ]
  },
  {
   "cell_type": "code",
   "execution_count": 20,
   "metadata": {},
   "outputs": [
    {
     "data": {
      "text/plain": [
       "[<matplotlib.lines.Line2D at 0x2d2ca0ba198>]"
      ]
     },
     "execution_count": 20,
     "metadata": {},
     "output_type": "execute_result"
    },
    {
     "data": {
      "image/png": "[encoded data removed]",
      "text/plain": [
       "<Figure size 432x288 with 1 Axes>"
      ]
     },
     "metadata": {
      "needs_background": "light"
     },
     "output_type": "display_data"
    }
   ],
   "source": [
    "#Exponential Decay Weighted Avg\n",
    "wavg=Idataset_log.ewm(halflife=12, min_periods=0, adjust=True).mean()\n",
    "plt.plot(Idataset_log)\n",
    "plt.plot(wavg, color=\"red\")"
   ]
  },
  {
   "cell_type": "code",
   "execution_count": 21,
   "metadata": {},
   "outputs": [
    {
     "data": {
      "image/png": "[encoded data removed]",
      "text/plain": [
       "<Figure size 432x288 with 1 Axes>"
      ]
     },
     "metadata": {
      "needs_background": "light"
     },
     "output_type": "display_data"
    },
    {
     "name": "stdout",
     "output_type": "stream",
     "text": [
      "Augmented Dickey Fuller Test\n",
      "ADF Test Statistic         -2.054793\n",
      "P-Value                     0.263077\n",
      "#Lags                      21.000000\n",
      "#obs                    10815.000000\n",
      "Critical Value (1%)        -3.430955\n",
      "Critical Value (5%)        -2.861807\n",
      "Critical Value (10%)       -2.566912\n",
      "dtype: float64\n"
     ]
    }
   ],
   "source": [
    "#dataset Scale - Wavg\n",
    "d_avg=Idataset_log- wavg\n",
    "test_stats(d_avg)"
   ]
  },
  {
   "cell_type": "code",
   "execution_count": 22,
   "metadata": {},
   "outputs": [
    {
     "data": {
      "text/plain": [
       "[<matplotlib.lines.Line2D at 0x2d2ca0ef3c8>]"
      ]
     },
     "execution_count": 22,
     "metadata": {},
     "output_type": "execute_result"
    },
    {
     "data": {
      "image/png": "[encoded data removed]",
      "text/plain": [
       "<Figure size 432x288 with 1 Axes>"
      ]
     },
     "metadata": {
      "needs_background": "light"
     },
     "output_type": "display_data"
    }
   ],
   "source": [
    "#check - D value - Intigrated\n",
    "Idataset_log_diff=Idataset_log - Idataset_log.shift()\n",
    "plt.plot(Idataset_log_diff)"
   ]
  },
  {
   "cell_type": "code",
   "execution_count": 23,
   "metadata": {},
   "outputs": [
    {
     "data": {
      "image/png": "[encoded data removed]",
      "text/plain": [
       "<Figure size 432x288 with 1 Axes>"
      ]
     },
     "metadata": {
      "needs_background": "light"
     },
     "output_type": "display_data"
    },
    {
     "name": "stdout",
     "output_type": "stream",
     "text": [
      "Augmented Dickey Fuller Test\n",
      "ADF Test Statistic         -2.054793\n",
      "P-Value                     0.263077\n",
      "#Lags                      21.000000\n",
      "#obs                    10815.000000\n",
      "Critical Value (1%)        -3.430955\n",
      "Critical Value (5%)        -2.861807\n",
      "Critical Value (10%)       -2.566912\n",
      "dtype: float64\n"
     ]
    },
    {
     "data": {
      "text/html": [
       "<div>\n",
       "<style scoped>\n",
       "    .dataframe tbody tr th:only-of-type {\n",
       "        vertical-align: middle;\n",
       "    }\n",
       "\n",
       "    .dataframe tbody tr th {\n",
       "        vertical-align: top;\n",
       "    }\n",
       "\n",
       "    .dataframe thead th {\n",
       "        text-align: right;\n",
       "    }\n",
       "</style>\n",
       "<table border=\"1\" class=\"dataframe\">\n",
       "  <thead>\n",
       "    <tr style=\"text-align: right;\">\n",
       "      <th></th>\n",
       "      <th>Value</th>\n",
       "    </tr>\n",
       "    <tr>\n",
       "      <th>Date</th>\n",
       "      <th></th>\n",
       "    </tr>\n",
       "  </thead>\n",
       "  <tbody>\n",
       "    <tr>\n",
       "      <th>2017-11-08</th>\n",
       "      <td>0.003249</td>\n",
       "    </tr>\n",
       "    <tr>\n",
       "      <th>2017-11-07</th>\n",
       "      <td>0.000926</td>\n",
       "    </tr>\n",
       "    <tr>\n",
       "      <th>2017-11-06</th>\n",
       "      <td>-0.000926</td>\n",
       "    </tr>\n",
       "    <tr>\n",
       "      <th>2017-11-03</th>\n",
       "      <td>-0.002668</td>\n",
       "    </tr>\n",
       "    <tr>\n",
       "      <th>2017-11-02</th>\n",
       "      <td>-0.004774</td>\n",
       "    </tr>\n",
       "    <tr>\n",
       "      <th>2017-11-01</th>\n",
       "      <td>0.004774</td>\n",
       "    </tr>\n",
       "    <tr>\n",
       "      <th>2017-10-31</th>\n",
       "      <td>-0.002792</td>\n",
       "    </tr>\n",
       "    <tr>\n",
       "      <th>2017-10-30</th>\n",
       "      <td>0.001978</td>\n",
       "    </tr>\n",
       "    <tr>\n",
       "      <th>2017-10-27</th>\n",
       "      <td>0.003945</td>\n",
       "    </tr>\n",
       "    <tr>\n",
       "      <th>2017-10-26</th>\n",
       "      <td>-0.010477</td>\n",
       "    </tr>\n",
       "  </tbody>\n",
       "</table>\n",
       "</div>"
      ],
      "text/plain": [
       "               Value\n",
       "Date                \n",
       "2017-11-08  0.003249\n",
       "2017-11-07  0.000926\n",
       "2017-11-06 -0.000926\n",
       "2017-11-03 -0.002668\n",
       "2017-11-02 -0.004774\n",
       "2017-11-01  0.004774\n",
       "2017-10-31 -0.002792\n",
       "2017-10-30  0.001978\n",
       "2017-10-27  0.003945\n",
       "2017-10-26 -0.010477"
      ]
     },
     "execution_count": 23,
     "metadata": {},
     "output_type": "execute_result"
    }
   ],
   "source": [
    "#drop NAN and ADF Test\n",
    "Idataset_log_diff.dropna(inplace=True)\n",
    "test_stats(Idataset_log_diff)\n",
    "Idataset_log_diff.head(10)"
   ]
  },
  {
   "cell_type": "code",
   "execution_count": 24,
   "metadata": {},
   "outputs": [],
   "source": [
    "Idataset_log.dropna(inplace=True)"
   ]
  },
  {
   "cell_type": "code",
   "execution_count": 25,
   "metadata": {
    "scrolled": true
   },
   "outputs": [
    {
     "ename": "ValueError",
     "evalue": "You must specify a freq or x must be a pandas object with a timeseries index with a freq not set to None",
     "output_type": "error",
     "traceback": [
      "\u001b[1;31m---------------------------------------------------------------------------\u001b[0m",
      "\u001b[1;31mValueError\u001b[0m                                Traceback (most recent call last)",
      "\u001b[1;32m<ipython-input-25-a8e00cfec82b>\u001b[0m in \u001b[0;36m<module>\u001b[1;34m\u001b[0m\n\u001b[0;32m      1\u001b[0m \u001b[1;31m# #Model\u001b[0m\u001b[1;33m\u001b[0m\u001b[1;33m\u001b[0m\u001b[1;33m\u001b[0m\u001b[0m\n\u001b[0;32m      2\u001b[0m \u001b[1;32mfrom\u001b[0m \u001b[0mstatsmodels\u001b[0m\u001b[1;33m.\u001b[0m\u001b[0mtsa\u001b[0m\u001b[1;33m.\u001b[0m\u001b[0mseasonal\u001b[0m \u001b[1;32mimport\u001b[0m \u001b[0mseasonal_decompose\u001b[0m\u001b[1;33m\u001b[0m\u001b[1;33m\u001b[0m\u001b[0m\n\u001b[1;32m----> 3\u001b[1;33m \u001b[0mdecomp\u001b[0m \u001b[1;33m=\u001b[0m \u001b[0mseasonal_decompose\u001b[0m\u001b[1;33m(\u001b[0m\u001b[0mIdataset_log\u001b[0m\u001b[1;33m)\u001b[0m\u001b[1;33m\u001b[0m\u001b[1;33m\u001b[0m\u001b[0m\n\u001b[0m\u001b[0;32m      4\u001b[0m \u001b[1;33m\u001b[0m\u001b[0m\n\u001b[0;32m      5\u001b[0m \u001b[1;33m\u001b[0m\u001b[0m\n",
      "\u001b[1;32mD:\\DS\\anaconda3\\lib\\site-packages\\statsmodels\\tsa\\seasonal.py\u001b[0m in \u001b[0;36mseasonal_decompose\u001b[1;34m(x, model, filt, freq, two_sided, extrapolate_trend)\u001b[0m\n\u001b[0;32m    125\u001b[0m             \u001b[0mfreq\u001b[0m \u001b[1;33m=\u001b[0m \u001b[0mpfreq\u001b[0m\u001b[1;33m\u001b[0m\u001b[1;33m\u001b[0m\u001b[0m\n\u001b[0;32m    126\u001b[0m         \u001b[1;32melse\u001b[0m\u001b[1;33m:\u001b[0m\u001b[1;33m\u001b[0m\u001b[1;33m\u001b[0m\u001b[0m\n\u001b[1;32m--> 127\u001b[1;33m             raise ValueError(\"You must specify a freq or x must be a \"\n\u001b[0m\u001b[0;32m    128\u001b[0m                              \u001b[1;34m\"pandas object with a timeseries index with \"\u001b[0m\u001b[1;33m\u001b[0m\u001b[1;33m\u001b[0m\u001b[0m\n\u001b[0;32m    129\u001b[0m                              \"a freq not set to None\")\n",
      "\u001b[1;31mValueError\u001b[0m: You must specify a freq or x must be a pandas object with a timeseries index with a freq not set to None"
     ]
    }
   ],
   "source": [
    "# #Model\n",
    "from statsmodels.tsa.seasonal import seasonal_decompose\n",
    "decomp = seasonal_decompose(Idataset_log)\n",
    "\n",
    "\n",
    "trend = decomp.trend\n",
    "seasonal=decomp.seasonal\n",
    "residual=decomp.resid\n",
    "\n",
    "plt.subplot(411)\n",
    "plt.plot(Idataset_log, label=\"Original\")\n",
    "plt.legend(loc=\"best\")\n",
    "\n",
    "plt.subplot(412)\n",
    "plt.plot(trend, label=\"Trend\")\n",
    "plt.legend(loc=\"best\")\n",
    "\n",
    "plt.subplot(413)\n",
    "plt.plot(seasonal, label=\"Seasonality\")\n",
    "plt.legend(loc=\"best\")\n",
    "\n",
    "plt.subplot(414)\n",
    "plt.plot(residual, label=\"Residuals\")\n",
    "plt.legend(loc=\"best\")\n",
    "\n",
    "decomlog=residual\n",
    "decomlog.dropna(inplace=True)\n",
    "test_stats(decomlog)"
   ]
  },
  {
   "cell_type": "code",
   "execution_count": 26,
   "metadata": {},
   "outputs": [
    {
     "data": {
      "image/png": "[encoded data removed]",
      "text/plain": [
       "<Figure size 432x288 with 2 Axes>"
      ]
     },
     "metadata": {
      "needs_background": "light"
     },
     "output_type": "display_data"
    }
   ],
   "source": [
    "#acf & PACF\n",
    "from statsmodels.tsa.stattools import acf, pacf\n",
    "# Idataset_log_diff.fillna(Idataset_log_diff.mean())\n",
    "lag_acf = acf(Idataset_log_diff, nlags=3)\n",
    "lag_pacf = pacf(Idataset_log_diff, nlags=3, method='ols')\n",
    "\n",
    "#Plot ACF\n",
    "plt.subplot(121)\n",
    "plt.plot(lag_acf)\n",
    "plt.axhline(y=0, linestyle='--', color='gray')\n",
    "plt.axhline(y=-1.96/np.sqrt(len(Idataset_log_diff)), linestyle='--', color='gray')\n",
    "plt.axhline(y=1.96/np.sqrt(len(Idataset_log_diff)), linestyle='--', color='gray')\n",
    "plt.title(\"Autocorrelation Function\")\n",
    "\n",
    "#Plot ACF\n",
    "plt.subplot(122)\n",
    "plt.plot(lag_pacf)\n",
    "plt.axhline(y=0, linestyle='--', color='gray')\n",
    "plt.axhline(y=-1.96/np.sqrt(len(Idataset_log_diff)), linestyle='--', color='gray')\n",
    "plt.axhline(y=1.96/np.sqrt(len(Idataset_log_diff)), linestyle='--', color='gray')\n",
    "plt.title(\"Partial Autocorrelation Function\")\n",
    "\n",
    "plt.tight_layout()\n",
    "\n"
   ]
  },
  {
   "cell_type": "code",
   "execution_count": 28,
   "metadata": {},
   "outputs": [
    {
     "name": "stderr",
     "output_type": "stream",
     "text": [
      "D:\\DS\\anaconda3\\lib\\site-packages\\statsmodels\\tsa\\base\\tsa_model.py:225: ValueWarning: A date index has been provided, but it has no associated frequency information and so will be ignored when e.g. forecasting.\n",
      "  ' ignored when e.g. forecasting.', ValueWarning)\n",
      "D:\\DS\\anaconda3\\lib\\site-packages\\statsmodels\\tsa\\base\\tsa_model.py:225: ValueWarning: A date index has been provided, but it has no associated frequency information and so will be ignored when e.g. forecasting.\n",
      "  ' ignored when e.g. forecasting.', ValueWarning)\n"
     ]
    },
    {
     "name": "stdout",
     "output_type": "stream",
     "text": [
      "Plotting AR Model\n"
     ]
    },
    {
     "data": {
      "image/png": "[encoded data removed]",
      "text/plain": [
       "<Figure size 432x288 with 1 Axes>"
      ]
     },
     "metadata": {
      "needs_background": "light"
     },
     "output_type": "display_data"
    }
   ],
   "source": [
    "#Arima\n",
    "from statsmodels.tsa.arima_model import ARIMA\n",
    "\n",
    "#AR\n",
    "model=ARIMA(Idataset_log, order=(1,1,1))\n",
    "result_AR=model.fit(disp=-1)\n",
    "plt.plot(Idataset_log_diff)\n",
    "plt.plot(result_AR.fittedvalues, color=\"red\")\n",
    "plt.title(\"RSS: %.4F\" %sum((result_AR.fittedvalues - Idataset_log_diff[\"Value\"]**2)))\n",
    "print(\"Plotting AR Model\")"
   ]
  },
  {
   "cell_type": "code",
   "execution_count": 30,
   "metadata": {},
   "outputs": [
    {
     "name": "stderr",
     "output_type": "stream",
     "text": [
      "D:\\DS\\anaconda3\\lib\\site-packages\\statsmodels\\tsa\\base\\tsa_model.py:225: ValueWarning: A date index has been provided, but it has no associated frequency information and so will be ignored when e.g. forecasting.\n",
      "  ' ignored when e.g. forecasting.', ValueWarning)\n",
      "D:\\DS\\anaconda3\\lib\\site-packages\\statsmodels\\tsa\\base\\tsa_model.py:225: ValueWarning: A date index has been provided, but it has no associated frequency information and so will be ignored when e.g. forecasting.\n",
      "  ' ignored when e.g. forecasting.', ValueWarning)\n"
     ]
    },
    {
     "name": "stdout",
     "output_type": "stream",
     "text": [
      "Plotting ARIMA Model\n"
     ]
    },
    {
     "data": {
      "image/png": "[encoded data removed]",
      "text/plain": [
       "<Figure size 432x288 with 1 Axes>"
      ]
     },
     "metadata": {
      "needs_background": "light"
     },
     "output_type": "display_data"
    }
   ],
   "source": [
    "#ARIMA\n",
    "model=ARIMA(Idataset_log, order=(1,1,1))\n",
    "result_ARIMA=model.fit(disp=-1)\n",
    "plt.plot(Idataset_log_diff)\n",
    "plt.plot(result_ARIMA.fittedvalues, color=\"red\")\n",
    "plt.title(\"RSS: %.4F\" %sum((result_ARIMA.fittedvalues - Idataset_log_diff[\"Value\"]**2)))\n",
    "print(\"Plotting ARIMA Model\")"
   ]
  },
  {
   "cell_type": "code",
   "execution_count": 31,
   "metadata": {},
   "outputs": [
    {
     "name": "stdout",
     "output_type": "stream",
     "text": [
      "Date\n",
      "2017-11-08   -0.000011\n",
      "2017-11-07    0.000065\n",
      "2017-11-06   -0.000024\n",
      "2017-11-03   -0.000027\n",
      "2017-11-02   -0.000066\n",
      "dtype: float64\n"
     ]
    }
   ],
   "source": [
    "pred_arima_diff=pd.Series(result_ARIMA.fittedvalues, copy=True)\n",
    "print(pred_arima_diff.head())"
   ]
  },
  {
   "cell_type": "code",
   "execution_count": 32,
   "metadata": {},
   "outputs": [
    {
     "name": "stdout",
     "output_type": "stream",
     "text": [
      "Date\n",
      "2017-11-08   -0.000011\n",
      "2017-11-07    0.000054\n",
      "2017-11-06    0.000030\n",
      "2017-11-03    0.000003\n",
      "2017-11-02   -0.000063\n",
      "2017-11-01   -0.000161\n",
      "2017-10-31   -0.000020\n",
      "2017-10-30   -0.000166\n",
      "2017-10-27   -0.000068\n",
      "2017-10-26   -0.000036\n",
      "2017-10-25   -0.000314\n",
      "2017-10-24   -0.000419\n",
      "2017-10-23   -0.000289\n",
      "2017-10-20   -0.000331\n",
      "2017-10-19   -0.000411\n",
      "2017-10-18   -0.000521\n",
      "2017-10-17   -0.000336\n",
      "2017-10-16   -0.000384\n",
      "2017-10-13   -0.000469\n",
      "2017-10-12   -0.000524\n",
      "2017-10-11   -0.000535\n",
      "2017-10-10   -0.000546\n",
      "2017-10-09   -0.000501\n",
      "2017-10-06   -0.000379\n",
      "2017-10-05   -0.000442\n",
      "2017-10-04   -0.000390\n",
      "2017-10-03   -0.000521\n",
      "2017-10-02   -0.000463\n",
      "2017-09-29   -0.000467\n",
      "2017-09-28   -0.000653\n",
      "                ...   \n",
      "1975-02-12   -0.119814\n",
      "1975-02-11   -0.119675\n",
      "1975-02-10   -0.119720\n",
      "1975-02-07   -0.119706\n",
      "1975-02-06   -0.119614\n",
      "1975-02-05   -0.119615\n",
      "1975-02-04   -0.119574\n",
      "1975-02-03   -0.119593\n",
      "1975-01-31   -0.119814\n",
      "1975-01-30   -0.119814\n",
      "1975-01-29   -0.119846\n",
      "1975-01-28   -0.119812\n",
      "1975-01-27   -0.120073\n",
      "1975-01-24   -0.120076\n",
      "1975-01-23   -0.119898\n",
      "1975-01-22   -0.119931\n",
      "1975-01-21   -0.119894\n",
      "1975-01-20   -0.119702\n",
      "1975-01-17   -0.119755\n",
      "1975-01-16   -0.119640\n",
      "1975-01-15   -0.119680\n",
      "1975-01-14   -0.119628\n",
      "1975-01-13   -0.119587\n",
      "1975-01-10   -0.119771\n",
      "1975-01-09   -0.119721\n",
      "1975-01-08   -0.119707\n",
      "1975-01-07   -0.119720\n",
      "1975-01-06   -0.119867\n",
      "1975-01-03   -0.119772\n",
      "1975-01-02   -0.119641\n",
      "Length: 10836, dtype: float64\n"
     ]
    }
   ],
   "source": [
    "p_arima_diff_cumsum=pred_arima_diff.cumsum()\n",
    "print(p_arima_diff_cumsum)"
   ]
  },
  {
   "cell_type": "code",
   "execution_count": 33,
   "metadata": {},
   "outputs": [
    {
     "name": "stderr",
     "output_type": "stream",
     "text": [
      "D:\\DS\\anaconda3\\lib\\site-packages\\ipykernel_launcher.py:1: DeprecationWarning: \n",
      ".ix is deprecated. Please use\n",
      ".loc for label based indexing or\n",
      ".iloc for positional indexing\n",
      "\n",
      "See the documentation here:\n",
      "http://pandas.pydata.org/pandas-docs/stable/indexing.html#ix-indexer-is-deprecated\n",
      "  \"\"\"Entry point for launching an IPython kernel.\n"
     ]
    },
    {
     "data": {
      "text/plain": [
       "Date\n",
       "1975-01-02   -0.270115\n",
       "1975-01-03   -0.270246\n",
       "1975-01-06   -0.270342\n",
       "1975-01-07   -0.270194\n",
       "1975-01-08   -0.270181\n",
       "dtype: float64"
      ]
     },
     "execution_count": 33,
     "metadata": {},
     "output_type": "execute_result"
    }
   ],
   "source": [
    "p_arima_log=pd.Series(Idataset_log[\"Value\"].ix[0], index=Idataset_log.index)\n",
    "p_arima_log=p_arima_log.add(p_arima_diff_cumsum, fill_value=0)\n",
    "p_arima_log.head()"
   ]
  },
  {
   "cell_type": "code",
   "execution_count": 34,
   "metadata": {},
   "outputs": [
    {
     "data": {
      "text/plain": [
       "[<matplotlib.lines.Line2D at 0x2d2caf777f0>]"
      ]
     },
     "execution_count": 34,
     "metadata": {},
     "output_type": "execute_result"
    },
    {
     "data": {
      "image/png": "[encoded data removed]",
      "text/plain": [
       "<Figure size 432x288 with 1 Axes>"
      ]
     },
     "metadata": {
      "needs_background": "light"
     },
     "output_type": "display_data"
    }
   ],
   "source": [
    "p_arima=np.exp(p_arima_log)\n",
    "plt.plot(Idataset)\n",
    "plt.plot(p_arima)"
   ]
  },
  {
   "cell_type": "code",
   "execution_count": 35,
   "metadata": {},
   "outputs": [
    {
     "data": {
      "text/html": [
       "<div>\n",
       "<style scoped>\n",
       "    .dataframe tbody tr th:only-of-type {\n",
       "        vertical-align: middle;\n",
       "    }\n",
       "\n",
       "    .dataframe tbody tr th {\n",
       "        vertical-align: top;\n",
       "    }\n",
       "\n",
       "    .dataframe thead th {\n",
       "        text-align: right;\n",
       "    }\n",
       "</style>\n",
       "<table border=\"1\" class=\"dataframe\">\n",
       "  <thead>\n",
       "    <tr style=\"text-align: right;\">\n",
       "      <th></th>\n",
       "      <th>Value</th>\n",
       "    </tr>\n",
       "    <tr>\n",
       "      <th>Date</th>\n",
       "      <th></th>\n",
       "    </tr>\n",
       "  </thead>\n",
       "  <tbody>\n",
       "    <tr>\n",
       "      <th>2017-11-09</th>\n",
       "      <td>-0.150474</td>\n",
       "    </tr>\n",
       "    <tr>\n",
       "      <th>2017-11-08</th>\n",
       "      <td>-0.147225</td>\n",
       "    </tr>\n",
       "    <tr>\n",
       "      <th>2017-11-07</th>\n",
       "      <td>-0.146298</td>\n",
       "    </tr>\n",
       "    <tr>\n",
       "      <th>2017-11-06</th>\n",
       "      <td>-0.147225</td>\n",
       "    </tr>\n",
       "    <tr>\n",
       "      <th>2017-11-03</th>\n",
       "      <td>-0.149893</td>\n",
       "    </tr>\n",
       "    <tr>\n",
       "      <th>2017-11-02</th>\n",
       "      <td>-0.154667</td>\n",
       "    </tr>\n",
       "    <tr>\n",
       "      <th>2017-11-01</th>\n",
       "      <td>-0.149893</td>\n",
       "    </tr>\n",
       "    <tr>\n",
       "      <th>2017-10-31</th>\n",
       "      <td>-0.152685</td>\n",
       "    </tr>\n",
       "    <tr>\n",
       "      <th>2017-10-30</th>\n",
       "      <td>-0.150707</td>\n",
       "    </tr>\n",
       "    <tr>\n",
       "      <th>2017-10-27</th>\n",
       "      <td>-0.146761</td>\n",
       "    </tr>\n",
       "    <tr>\n",
       "      <th>2017-10-26</th>\n",
       "      <td>-0.157239</td>\n",
       "    </tr>\n",
       "    <tr>\n",
       "      <th>2017-10-25</th>\n",
       "      <td>-0.166409</td>\n",
       "    </tr>\n",
       "    <tr>\n",
       "      <th>2017-10-24</th>\n",
       "      <td>-0.162284</td>\n",
       "    </tr>\n",
       "    <tr>\n",
       "      <th>2017-10-23</th>\n",
       "      <td>-0.160873</td>\n",
       "    </tr>\n",
       "    <tr>\n",
       "      <th>2017-10-20</th>\n",
       "      <td>-0.164403</td>\n",
       "    </tr>\n",
       "    <tr>\n",
       "      <th>2017-10-19</th>\n",
       "      <td>-0.169958</td>\n",
       "    </tr>\n",
       "    <tr>\n",
       "      <th>2017-10-18</th>\n",
       "      <td>-0.163578</td>\n",
       "    </tr>\n",
       "    <tr>\n",
       "      <th>2017-10-17</th>\n",
       "      <td>-0.161343</td>\n",
       "    </tr>\n",
       "    <tr>\n",
       "      <th>2017-10-16</th>\n",
       "      <td>-0.165228</td>\n",
       "    </tr>\n",
       "    <tr>\n",
       "      <th>2017-10-13</th>\n",
       "      <td>-0.168537</td>\n",
       "    </tr>\n",
       "    <tr>\n",
       "      <th>2017-10-12</th>\n",
       "      <td>-0.169366</td>\n",
       "    </tr>\n",
       "    <tr>\n",
       "      <th>2017-10-11</th>\n",
       "      <td>-0.169366</td>\n",
       "    </tr>\n",
       "    <tr>\n",
       "      <th>2017-10-10</th>\n",
       "      <td>-0.167000</td>\n",
       "    </tr>\n",
       "    <tr>\n",
       "      <th>2017-10-09</th>\n",
       "      <td>-0.160286</td>\n",
       "    </tr>\n",
       "    <tr>\n",
       "      <th>2017-10-06</th>\n",
       "      <td>-0.159934</td>\n",
       "    </tr>\n",
       "    <tr>\n",
       "      <th>2017-10-05</th>\n",
       "      <td>-0.158293</td>\n",
       "    </tr>\n",
       "    <tr>\n",
       "      <th>2017-10-04</th>\n",
       "      <td>-0.162166</td>\n",
       "    </tr>\n",
       "    <tr>\n",
       "      <th>2017-10-03</th>\n",
       "      <td>-0.161578</td>\n",
       "    </tr>\n",
       "    <tr>\n",
       "      <th>2017-10-02</th>\n",
       "      <td>-0.159934</td>\n",
       "    </tr>\n",
       "    <tr>\n",
       "      <th>2017-09-29</th>\n",
       "      <td>-0.167236</td>\n",
       "    </tr>\n",
       "    <tr>\n",
       "      <th>...</th>\n",
       "      <td>...</td>\n",
       "    </tr>\n",
       "    <tr>\n",
       "      <th>1975-02-12</th>\n",
       "      <td>-0.297463</td>\n",
       "    </tr>\n",
       "    <tr>\n",
       "      <th>1975-02-11</th>\n",
       "      <td>-0.295983</td>\n",
       "    </tr>\n",
       "    <tr>\n",
       "      <th>1975-02-10</th>\n",
       "      <td>-0.295580</td>\n",
       "    </tr>\n",
       "    <tr>\n",
       "      <th>1975-02-07</th>\n",
       "      <td>-0.290753</td>\n",
       "    </tr>\n",
       "    <tr>\n",
       "      <th>1975-02-06</th>\n",
       "      <td>-0.288349</td>\n",
       "    </tr>\n",
       "    <tr>\n",
       "      <th>1975-02-05</th>\n",
       "      <td>-0.285950</td>\n",
       "    </tr>\n",
       "    <tr>\n",
       "      <th>1975-02-04</th>\n",
       "      <td>-0.285285</td>\n",
       "    </tr>\n",
       "    <tr>\n",
       "      <th>1975-02-03</th>\n",
       "      <td>-0.294371</td>\n",
       "    </tr>\n",
       "    <tr>\n",
       "      <th>1975-01-31</th>\n",
       "      <td>-0.298002</td>\n",
       "    </tr>\n",
       "    <tr>\n",
       "      <th>1975-01-30</th>\n",
       "      <td>-0.298676</td>\n",
       "    </tr>\n",
       "    <tr>\n",
       "      <th>1975-01-29</th>\n",
       "      <td>-0.297194</td>\n",
       "    </tr>\n",
       "    <tr>\n",
       "      <th>1975-01-28</th>\n",
       "      <td>-0.306933</td>\n",
       "    </tr>\n",
       "    <tr>\n",
       "      <th>1975-01-27</th>\n",
       "      <td>-0.311428</td>\n",
       "    </tr>\n",
       "    <tr>\n",
       "      <th>1975-01-24</th>\n",
       "      <td>-0.303270</td>\n",
       "    </tr>\n",
       "    <tr>\n",
       "      <th>1975-01-23</th>\n",
       "      <td>-0.300565</td>\n",
       "    </tr>\n",
       "    <tr>\n",
       "      <th>1975-01-22</th>\n",
       "      <td>-0.298945</td>\n",
       "    </tr>\n",
       "    <tr>\n",
       "      <th>1975-01-21</th>\n",
       "      <td>-0.289417</td>\n",
       "    </tr>\n",
       "    <tr>\n",
       "      <th>1975-01-20</th>\n",
       "      <td>-0.287282</td>\n",
       "    </tr>\n",
       "    <tr>\n",
       "      <th>1975-01-17</th>\n",
       "      <td>-0.282761</td>\n",
       "    </tr>\n",
       "    <tr>\n",
       "      <th>1975-01-16</th>\n",
       "      <td>-0.281567</td>\n",
       "    </tr>\n",
       "    <tr>\n",
       "      <th>1975-01-15</th>\n",
       "      <td>-0.279449</td>\n",
       "    </tr>\n",
       "    <tr>\n",
       "      <th>1975-01-14</th>\n",
       "      <td>-0.276017</td>\n",
       "    </tr>\n",
       "    <tr>\n",
       "      <th>1975-01-13</th>\n",
       "      <td>-0.282363</td>\n",
       "    </tr>\n",
       "    <tr>\n",
       "      <th>1975-01-10</th>\n",
       "      <td>-0.283159</td>\n",
       "    </tr>\n",
       "    <tr>\n",
       "      <th>1975-01-09</th>\n",
       "      <td>-0.280905</td>\n",
       "    </tr>\n",
       "    <tr>\n",
       "      <th>1975-01-08</th>\n",
       "      <td>-0.280508</td>\n",
       "    </tr>\n",
       "    <tr>\n",
       "      <th>1975-01-07</th>\n",
       "      <td>-0.286350</td>\n",
       "    </tr>\n",
       "    <tr>\n",
       "      <th>1975-01-06</th>\n",
       "      <td>-0.284487</td>\n",
       "    </tr>\n",
       "    <tr>\n",
       "      <th>1975-01-03</th>\n",
       "      <td>-0.276412</td>\n",
       "    </tr>\n",
       "    <tr>\n",
       "      <th>1975-01-02</th>\n",
       "      <td>-0.270104</td>\n",
       "    </tr>\n",
       "  </tbody>\n",
       "</table>\n",
       "<p>10837 rows × 1 columns</p>\n",
       "</div>"
      ],
      "text/plain": [
       "               Value\n",
       "Date                \n",
       "2017-11-09 -0.150474\n",
       "2017-11-08 -0.147225\n",
       "2017-11-07 -0.146298\n",
       "2017-11-06 -0.147225\n",
       "2017-11-03 -0.149893\n",
       "2017-11-02 -0.154667\n",
       "2017-11-01 -0.149893\n",
       "2017-10-31 -0.152685\n",
       "2017-10-30 -0.150707\n",
       "2017-10-27 -0.146761\n",
       "2017-10-26 -0.157239\n",
       "2017-10-25 -0.166409\n",
       "2017-10-24 -0.162284\n",
       "2017-10-23 -0.160873\n",
       "2017-10-20 -0.164403\n",
       "2017-10-19 -0.169958\n",
       "2017-10-18 -0.163578\n",
       "2017-10-17 -0.161343\n",
       "2017-10-16 -0.165228\n",
       "2017-10-13 -0.168537\n",
       "2017-10-12 -0.169366\n",
       "2017-10-11 -0.169366\n",
       "2017-10-10 -0.167000\n",
       "2017-10-09 -0.160286\n",
       "2017-10-06 -0.159934\n",
       "2017-10-05 -0.158293\n",
       "2017-10-04 -0.162166\n",
       "2017-10-03 -0.161578\n",
       "2017-10-02 -0.159934\n",
       "2017-09-29 -0.167236\n",
       "...              ...\n",
       "1975-02-12 -0.297463\n",
       "1975-02-11 -0.295983\n",
       "1975-02-10 -0.295580\n",
       "1975-02-07 -0.290753\n",
       "1975-02-06 -0.288349\n",
       "1975-02-05 -0.285950\n",
       "1975-02-04 -0.285285\n",
       "1975-02-03 -0.294371\n",
       "1975-01-31 -0.298002\n",
       "1975-01-30 -0.298676\n",
       "1975-01-29 -0.297194\n",
       "1975-01-28 -0.306933\n",
       "1975-01-27 -0.311428\n",
       "1975-01-24 -0.303270\n",
       "1975-01-23 -0.300565\n",
       "1975-01-22 -0.298945\n",
       "1975-01-21 -0.289417\n",
       "1975-01-20 -0.287282\n",
       "1975-01-17 -0.282761\n",
       "1975-01-16 -0.281567\n",
       "1975-01-15 -0.279449\n",
       "1975-01-14 -0.276017\n",
       "1975-01-13 -0.282363\n",
       "1975-01-10 -0.283159\n",
       "1975-01-09 -0.280905\n",
       "1975-01-08 -0.280508\n",
       "1975-01-07 -0.286350\n",
       "1975-01-06 -0.284487\n",
       "1975-01-03 -0.276412\n",
       "1975-01-02 -0.270104\n",
       "\n",
       "[10837 rows x 1 columns]"
      ]
     },
     "execution_count": 35,
     "metadata": {},
     "output_type": "execute_result"
    }
   ],
   "source": [
    "#Prediction\n",
    "Idataset_log"
   ]
  },
  {
   "cell_type": "code",
   "execution_count": 36,
   "metadata": {},
   "outputs": [
    {
     "data": {
      "image/png": "[encoded data removed]",
      "text/plain": [
       "<Figure size 432x288 with 1 Axes>"
      ]
     },
     "metadata": {
      "needs_background": "light"
     },
     "output_type": "display_data"
    }
   ],
   "source": [
    "result_ARIMA.plot_predict(1,455)\n",
    "x=result_ARIMA.forecast(steps=90)"
   ]
  },
  {
   "cell_type": "code",
   "execution_count": null,
   "metadata": {},
   "outputs": [],
   "source": []
  }
 ],
 "metadata": {
  "kernelspec": {
   "display_name": "Python 3",
   "language": "python",
   "name": "python3"
  },
  "language_info": {
   "codemirror_mode": {
    "name": "ipython",
    "version": 3
   },
   "file_extension": ".py",
   "mimetype": "text/x-python",
   "name": "python",
   "nbconvert_exporter": "python",
   "pygments_lexer": "ipython3",
   "version": "3.7.3"
  }
 },
 "nbformat": 4,
 "nbformat_minor": 2
}
